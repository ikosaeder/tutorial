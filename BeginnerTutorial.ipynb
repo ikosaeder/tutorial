{
 "cells": [
  {
   "cell_type": "markdown",
   "metadata": {},
   "source": [
    "# Python Tutorial\n",
    "\n",
    "## Einleitung\n",
    "\n",
    "Dieses kleine Tutorial soll Anfängern helfen, mit Python programmieren zu lernen.\n",
    "Dazu soll ein Programm erstellt werden, das einfache geometrische Berechnungen durchführt. \n",
    "Die einzelnen Teile führen dabei schrittweise wichtige Teile der Programmiersprache ein. \n",
    "Nach und nach werden diese Teile vertieft. \n",
    "\n",
    "## Teil 1\n",
    "\n",
    "1. Deklaration von Variablen\n",
    "2. Arithmetische Operationen\n",
    "3. Deklaration von Funktionen\n",
    "\n",
    "\n",
    "Die Fläche eines Rechtecks soll berechnet werden. Die Formel lautet\n",
    "$$ A=a*b$$\n",
    "Für ein Rechteck mit den Seiten $ a=3 $ und  $b=2$ ist $A=6$\n",
    "In Python ist die Lösung einfach:"
   ]
  },
  {
   "cell_type": "code",
   "execution_count": 4,
   "metadata": {},
   "outputs": [
    {
     "data": {
      "text/plain": [
       "6"
      ]
     },
     "execution_count": 4,
     "metadata": {},
     "output_type": "execute_result"
    }
   ],
   "source": [
    "3*2 "
   ]
  },
  {
   "cell_type": "markdown",
   "metadata": {},
   "source": [
    "Python verhält sich dabei wie ein Taschenrechner. Allerdings ist lässt sich die Berechnung noch nicht wirklich in einem Programm verwenden. Wollte man zum Beispiel mit dem Wert der Fläche weiterrechnen, so müsste man zuerst die Fläche ausrechnen und dann das Ergebnis in die neue Berechnung einsetzen. Damit man den Wer nicht neu eingeben muss, kann man den Wert in einer Variablen speichern. Mit Variablen sieht das ganze Programm so aus: "
   ]
  },
  {
   "cell_type": "code",
   "execution_count": 2,
   "metadata": {},
   "outputs": [],
   "source": [
    "a=3\n",
    "b=2\n",
    "A=2*3"
   ]
  },
  {
   "cell_type": "markdown",
   "metadata": {},
   "source": [
    "Eine Variable ist im Grunde nur ein Name, mit dem man den Wert, der dahinter, steckt referenziert. In dem Beispiel enthält A jetzt das Ergebnis unserer Berechnung. Da der Wert einer Variable zugewiesen wurde, wurde das Ergebnis allerdings nicht ausgegeben. Um auf den Wert zuzugreifen, müssen wir in daher ausgeben. Einfache Ausgaben erfolgen in Python mit der Funktion print. "
   ]
  },
  {
   "cell_type": "code",
   "execution_count": 3,
   "metadata": {},
   "outputs": [
    {
     "name": "stdout",
     "output_type": "stream",
     "text": [
      "6\n"
     ]
    }
   ],
   "source": [
    "print(A)"
   ]
  },
  {
   "cell_type": "markdown",
   "metadata": {},
   "source": [
    "Eine Funktion erlaubt es, den gleichen Code immer wieder auszuführen ohne den gleichen Code mehrfach zu schreiben.\n",
    "Ein Funktion wird erzeugt in dem man das Schlüsselwort (Keyword) def verwendet. In den meisten Fällen bekommt eine Funktion einen Namen und in runden Klammern ein Liste von Eingabeparametern, die die Funktion steuern oder Eingaben für die Berechnung sind. Die Deklaration wird mit einem Doppelpunkt abgeschlossen.\n",
    "Wichtig in Python sind Einrückungen. Alle Programmzeilen mit einer Einrückung nach der ersten Zeile gehören damit zu der Funktion. Eine Funktion wird beendet mit dem Keyword return. Alles was nach return kommt, wird an das aufrufende Programm zurückgegeben.\n",
    "Eine Funktion zur Berecknung der Fläche eines Rechtecks könnte dann z.B. so aussehen:"
   ]
  },
  {
   "cell_type": "code",
   "execution_count": 3,
   "metadata": {},
   "outputs": [],
   "source": [
    "def FlaecheRechteck(a,b):\n",
    "    A=a*b\n",
    "    return A"
   ]
  },
  {
   "cell_type": "markdown",
   "metadata": {},
   "source": [
    "Wir können damit jetzt beliebige Rechtecke berechnen. "
   ]
  },
  {
   "cell_type": "code",
   "execution_count": 6,
   "metadata": {},
   "outputs": [
    {
     "name": "stdout",
     "output_type": "stream",
     "text": [
      "35\n",
      "8.75\n"
     ]
    }
   ],
   "source": [
    "print(FlaecheRechteck(5,7))\n",
    "print(FlaecheRechteck(2.5,3.5))"
   ]
  },
  {
   "cell_type": "markdown",
   "metadata": {},
   "source": [
    "Wie man sieht, kann Python problemlos zwischen Ganzzahlen (Integer) und Kommazahlen (float) unterscheiden. Das liegt daran, dass \n",
    "Python eine dynamisch typisierte Sprache ist. Bei statisch typisierten Programmiersprachen muss der Datentyp bei der Variablendeklaration festgelegt werden."
   ]
  },
  {
   "cell_type": "markdown",
   "metadata": {},
   "source": [
    "Unsere Funktion kann Rechtecke berechnen, aber kontroliert die Eingaben des Benutzers nicht. Damit können auch unsinnige Eingaben verarbeitet werden."
   ]
  },
  {
   "cell_type": "code",
   "execution_count": 8,
   "metadata": {},
   "outputs": [
    {
     "name": "stdout",
     "output_type": "stream",
     "text": [
      "-24\n"
     ]
    }
   ],
   "source": [
    "print(FlaecheRechteck(-3,8))"
   ]
  },
  {
   "cell_type": "markdown",
   "metadata": {},
   "source": [
    "Ein Rechteck mit negativer Fläche macht natürlich wenig Sinn. Um solches Fehlverhalten zu vermeiden, müssen Eingabeparameter auf ihre Korrektheit überprüft werden.\n",
    "Eine Möglichkeit besteht mit assert. Damit können wir in unserer Funktion prüfen, ob alle Eingaben positiv sind.\n",
    "Hinweis: Assert ist keine gute Möglichkeit, eine Plausibilität zu prüfen. An dieser Stelle ist es jedoch die einfachste Methode eine Prüfung zu realisieren. "
   ]
  },
  {
   "cell_type": "code",
   "execution_count": 9,
   "metadata": {},
   "outputs": [],
   "source": [
    "def FlaecheRechteck02(a,b):\n",
    "    assert a > 0, \"a muss größer als 0 sein\"\n",
    "    assert b > 0, \"b muss größer als 0 sein\"\n",
    "    A=a*b\n",
    "    return A"
   ]
  },
  {
   "cell_type": "markdown",
   "metadata": {},
   "source": [
    "Mit dieser neuen Funktion werden Eingaben negativer Zahlen abgefangen"
   ]
  },
  {
   "cell_type": "code",
   "execution_count": 16,
   "metadata": {},
   "outputs": [
    {
     "name": "stdout",
     "output_type": "stream",
     "text": [
      "30\n"
     ]
    },
    {
     "ename": "AssertionError",
     "evalue": "a muss größer als 0 sein",
     "output_type": "error",
     "traceback": [
      "\u001b[1;31m---------------------------------------------------------------------------\u001b[0m",
      "\u001b[1;31mAssertionError\u001b[0m                            Traceback (most recent call last)",
      "\u001b[1;32m<ipython-input-16-8a1f7f9540ee>\u001b[0m in \u001b[0;36m<module>\u001b[1;34m\u001b[0m\n\u001b[0;32m      1\u001b[0m \u001b[0mprint\u001b[0m\u001b[1;33m(\u001b[0m\u001b[0mFlaecheRechteck02\u001b[0m\u001b[1;33m(\u001b[0m\u001b[1;36m5\u001b[0m\u001b[1;33m,\u001b[0m\u001b[1;36m6\u001b[0m\u001b[1;33m)\u001b[0m\u001b[1;33m)\u001b[0m\u001b[1;33m\u001b[0m\u001b[1;33m\u001b[0m\u001b[0m\n\u001b[1;32m----> 2\u001b[1;33m \u001b[0mprint\u001b[0m\u001b[1;33m(\u001b[0m\u001b[0mFlaecheRechteck02\u001b[0m\u001b[1;33m(\u001b[0m\u001b[1;33m-\u001b[0m\u001b[1;36m5\u001b[0m\u001b[1;33m,\u001b[0m\u001b[1;36m6\u001b[0m\u001b[1;33m)\u001b[0m\u001b[1;33m)\u001b[0m\u001b[1;33m\u001b[0m\u001b[1;33m\u001b[0m\u001b[0m\n\u001b[0m",
      "\u001b[1;32m<ipython-input-14-6bf71a69670f>\u001b[0m in \u001b[0;36mFlaecheRechteck02\u001b[1;34m(a, b)\u001b[0m\n\u001b[0;32m      1\u001b[0m \u001b[1;32mdef\u001b[0m \u001b[0mFlaecheRechteck02\u001b[0m\u001b[1;33m(\u001b[0m\u001b[0ma\u001b[0m\u001b[1;33m,\u001b[0m\u001b[0mb\u001b[0m\u001b[1;33m)\u001b[0m\u001b[1;33m:\u001b[0m\u001b[1;33m\u001b[0m\u001b[1;33m\u001b[0m\u001b[0m\n\u001b[1;32m----> 2\u001b[1;33m     \u001b[1;32massert\u001b[0m \u001b[0ma\u001b[0m \u001b[1;33m>\u001b[0m\u001b[1;36m0\u001b[0m\u001b[1;33m,\u001b[0m \u001b[1;34m\"a muss größer als 0 sein\"\u001b[0m\u001b[1;33m\u001b[0m\u001b[1;33m\u001b[0m\u001b[0m\n\u001b[0m\u001b[0;32m      3\u001b[0m     \u001b[1;32massert\u001b[0m \u001b[0mb\u001b[0m  \u001b[1;33m>\u001b[0m\u001b[1;36m0\u001b[0m\u001b[1;33m,\u001b[0m \u001b[1;34m\"b muss größer als 0 sein\"\u001b[0m\u001b[1;33m\u001b[0m\u001b[1;33m\u001b[0m\u001b[0m\n\u001b[0;32m      4\u001b[0m     \u001b[0mA\u001b[0m\u001b[1;33m=\u001b[0m\u001b[0ma\u001b[0m\u001b[1;33m*\u001b[0m\u001b[0mb\u001b[0m\u001b[1;33m\u001b[0m\u001b[1;33m\u001b[0m\u001b[0m\n\u001b[0;32m      5\u001b[0m     \u001b[1;32mreturn\u001b[0m \u001b[0mA\u001b[0m\u001b[1;33m\u001b[0m\u001b[1;33m\u001b[0m\u001b[0m\n",
      "\u001b[1;31mAssertionError\u001b[0m: a muss größer als 0 sein"
     ]
    }
   ],
   "source": [
    "print(FlaecheRechteck02(5,6))\n",
    "print(FlaecheRechteck02(-5,6))"
   ]
  },
  {
   "cell_type": "markdown",
   "metadata": {},
   "source": [
    "Gibt man in die neue Funktion negative Werte ein, beendet sich das Programm mit einem Fehler. In diesem Fall ein AssertionError. Auf die Behandlung von Fehlern gehen wir später noch mal ein. Jetzt lernen wir zunächst ein anderes Prinzip kennen. DRY-Don't repeat yourself. Es ist ineffiezient den selben Code mehrmals zu schreiben. Stattdessen speichert man Code in Funktionen um sie erneut aufzurufen. Um das zu verdeutlichen, schreiben wir ein neue Funktion, die die Fläche eines Quadrates berechnet. Die Formel lautet $ A=a*a$, aber statt die Formel in eine Funktion zu packen, verwenden wir die Funktion FlaecheRechteck02. Unsere neue Funktion hat als einzigen Parameter die Seitenlänge a."
   ]
  },
  {
   "cell_type": "code",
   "execution_count": 7,
   "metadata": {},
   "outputs": [],
   "source": [
    "def FlaecheQuadrat(a):\n",
    "    return FlaecheRechteck02(a,a)    "
   ]
  },
  {
   "cell_type": "markdown",
   "metadata": {},
   "source": [
    "Indem wir unsere neue Rechteckfunktion für die Berechnung des Quadrates aufrufen, brauchen wir keinen zusätzlichen Code in der Funktion FlaecheQuadrat.\n",
    "Auch die Prüfung der Eingabeparameter ist quasi gratis mit inbegriffen. "
   ]
  },
  {
   "cell_type": "markdown",
   "metadata": {},
   "source": [
    "### Übungsaufgaben:\n",
    "1. Schreiben sie eine Funktion, die die Oberfläche eines Quaders berechnet und dabei nur die Funktion Rechteck für Berechnungen nutzt.\n",
    "2. Schreiben sie eine Funktion die den Umfang eines Rechtecks berechnet\n",
    "\n",
    "<a href=\"#solutions\">Lösung</a>"
   ]
  },
  {
   "cell_type": "markdown",
   "metadata": {},
   "source": [
    "## Teil 2\n",
    "\n",
    "4. Nutzereingaben\n",
    "5. Verzweigungen \n",
    "6. Schleifen\n",
    "\n",
    "Im zweiten Teil dieses Tutorials lernen wir Eingaben und Kontrollstrukturen kennen. Dadurch wird es möglich, den Programmablauf zu steuern. Wir benutzen dazu die Funktionen aus dem ersten Teil und fügen weitere hinzu. \n",
    "Die einfache Eingabe erfolgt mit der Funktion input."
   ]
  },
  {
   "cell_type": "code",
   "execution_count": 19,
   "metadata": {},
   "outputs": [
    {
     "name": "stdout",
     "output_type": "stream",
     "text": [
      "Geben sie die Seitenlänge ein:3\n"
     ]
    },
    {
     "ename": "TypeError",
     "evalue": "'>' not supported between instances of 'str' and 'int'",
     "output_type": "error",
     "traceback": [
      "\u001b[1;31m---------------------------------------------------------------------------\u001b[0m",
      "\u001b[1;31mTypeError\u001b[0m                                 Traceback (most recent call last)",
      "\u001b[1;32m<ipython-input-19-8bbf015afa8c>\u001b[0m in \u001b[0;36m<module>\u001b[1;34m\u001b[0m\n\u001b[0;32m      1\u001b[0m \u001b[0ma\u001b[0m\u001b[1;33m=\u001b[0m\u001b[0minput\u001b[0m\u001b[1;33m(\u001b[0m\u001b[1;34m\"Geben sie die Seitenlänge ein:\"\u001b[0m\u001b[1;33m)\u001b[0m\u001b[1;33m\u001b[0m\u001b[1;33m\u001b[0m\u001b[0m\n\u001b[1;32m----> 2\u001b[1;33m \u001b[0mprint\u001b[0m\u001b[1;33m(\u001b[0m\u001b[0mFlaecheQuadrat\u001b[0m\u001b[1;33m(\u001b[0m\u001b[0ma\u001b[0m\u001b[1;33m)\u001b[0m\u001b[1;33m)\u001b[0m\u001b[1;33m\u001b[0m\u001b[1;33m\u001b[0m\u001b[0m\n\u001b[0m",
      "\u001b[1;32m<ipython-input-17-113e9059f838>\u001b[0m in \u001b[0;36mFlaecheQuadrat\u001b[1;34m(a)\u001b[0m\n\u001b[0;32m      1\u001b[0m \u001b[1;32mdef\u001b[0m \u001b[0mFlaecheQuadrat\u001b[0m\u001b[1;33m(\u001b[0m\u001b[0ma\u001b[0m\u001b[1;33m)\u001b[0m\u001b[1;33m:\u001b[0m\u001b[1;33m\u001b[0m\u001b[1;33m\u001b[0m\u001b[0m\n\u001b[1;32m----> 2\u001b[1;33m     \u001b[1;32mreturn\u001b[0m \u001b[0mFlaecheRechteck02\u001b[0m\u001b[1;33m(\u001b[0m\u001b[0ma\u001b[0m\u001b[1;33m,\u001b[0m\u001b[0ma\u001b[0m\u001b[1;33m)\u001b[0m\u001b[1;33m\u001b[0m\u001b[1;33m\u001b[0m\u001b[0m\n\u001b[0m",
      "\u001b[1;32m<ipython-input-14-6bf71a69670f>\u001b[0m in \u001b[0;36mFlaecheRechteck02\u001b[1;34m(a, b)\u001b[0m\n\u001b[0;32m      1\u001b[0m \u001b[1;32mdef\u001b[0m \u001b[0mFlaecheRechteck02\u001b[0m\u001b[1;33m(\u001b[0m\u001b[0ma\u001b[0m\u001b[1;33m,\u001b[0m\u001b[0mb\u001b[0m\u001b[1;33m)\u001b[0m\u001b[1;33m:\u001b[0m\u001b[1;33m\u001b[0m\u001b[1;33m\u001b[0m\u001b[0m\n\u001b[1;32m----> 2\u001b[1;33m     \u001b[1;32massert\u001b[0m \u001b[0ma\u001b[0m \u001b[1;33m>\u001b[0m\u001b[1;36m0\u001b[0m\u001b[1;33m,\u001b[0m \u001b[1;34m\"a muss größer als 0 sein\"\u001b[0m\u001b[1;33m\u001b[0m\u001b[1;33m\u001b[0m\u001b[0m\n\u001b[0m\u001b[0;32m      3\u001b[0m     \u001b[1;32massert\u001b[0m \u001b[0mb\u001b[0m  \u001b[1;33m>\u001b[0m\u001b[1;36m0\u001b[0m\u001b[1;33m,\u001b[0m \u001b[1;34m\"b muss größer als 0 sein\"\u001b[0m\u001b[1;33m\u001b[0m\u001b[1;33m\u001b[0m\u001b[0m\n\u001b[0;32m      4\u001b[0m     \u001b[0mA\u001b[0m\u001b[1;33m=\u001b[0m\u001b[0ma\u001b[0m\u001b[1;33m*\u001b[0m\u001b[0mb\u001b[0m\u001b[1;33m\u001b[0m\u001b[1;33m\u001b[0m\u001b[0m\n\u001b[0;32m      5\u001b[0m     \u001b[1;32mreturn\u001b[0m \u001b[0mA\u001b[0m\u001b[1;33m\u001b[0m\u001b[1;33m\u001b[0m\u001b[0m\n",
      "\u001b[1;31mTypeError\u001b[0m: '>' not supported between instances of 'str' and 'int'"
     ]
    }
   ],
   "source": [
    "\n",
    "a=input(\"Geben sie die Seitenlänge ein:\")\n",
    "print(FlaecheQuadrat(a))"
   ]
  },
  {
   "cell_type": "markdown",
   "metadata": {},
   "source": [
    "Die Eingabe 3 erzeugt einen Fehler, einen TypeError. In Python können Variablen zwar beliebige Datentypen annehmen, aber nicht alle Operationen können auf allen Typen angewendet werden. Das Problem hier ist, das input eine Zeichenkette (String ) zurückgibt, die Funktion aber eine Zahl erwartet. Um das zu korrigieren, muss die Eingabe deshalb in eine Zahl umgewandelt werden (type cast)."
   ]
  },
  {
   "cell_type": "code",
   "execution_count": 23,
   "metadata": {},
   "outputs": [
    {
     "name": "stdout",
     "output_type": "stream",
     "text": [
      "Geben sie die Seitenlänge ein:3\n"
     ]
    }
   ],
   "source": [
    "a=input(\"Geben sie die Seitenlänge ein:\")"
   ]
  },
  {
   "cell_type": "code",
   "execution_count": 24,
   "metadata": {},
   "outputs": [
    {
     "name": "stdout",
     "output_type": "stream",
     "text": [
      "9\n"
     ]
    }
   ],
   "source": [
    "print(FlaecheQuadrat(int(a)))"
   ]
  },
  {
   "cell_type": "markdown",
   "metadata": {},
   "source": [
    "Mit dem cast int(a) funktioniert der Aufruf und gibt die richtige Lösung zurück. "
   ]
  },
  {
   "cell_type": "code",
   "execution_count": 4,
   "metadata": {
    "scrolled": true
   },
   "outputs": [
    {
     "name": "stdout",
     "output_type": "stream",
     "text": [
      "Geben sie die Seitenlänge ein:4\n",
      "16\n"
     ]
    }
   ],
   "source": [
    "a=input(\"Geben sie die Seitenlänge ein:\")\n",
    "print(FlaecheQuadrat(int(a)))"
   ]
  },
  {
   "cell_type": "markdown",
   "metadata": {},
   "source": []
  },
  {
   "cell_type": "markdown",
   "metadata": {},
   "source": [
    "Quadrate und Rechtecke sind nur 2 von vielen möglichen Flächen. Wir erweitern den Funktionspool nun um eine Funktion, die eine Kreisfläche berechnet. Dazu benötigen wir die Kreiszahl PI. Die Formel lautet:\n",
    "$ A= r^2 * PI$\n",
    "Diese könnten wir als Variable in der Funktion deklarieren. Besser ist es aber, die Konstante aus dem Mathemodul von Python zu verwenden. Um ein Modul zu benutzen, muss man es zu erst importieren. Dazu gibt es zwei verschiedene Möglichkeiten. Einmal als import Modulname oder als from Modulname import Funktion"
   ]
  },
  {
   "cell_type": "code",
   "execution_count": 4,
   "metadata": {},
   "outputs": [],
   "source": [
    "def FlaecheKreis(r):\n",
    "    import math\n",
    "    A=r**2*math.pi\n",
    "    return A"
   ]
  },
  {
   "cell_type": "code",
   "execution_count": 5,
   "metadata": {},
   "outputs": [],
   "source": [
    "def FlaecheKreis02(r):\n",
    "    from math import pi\n",
    "    A=r**2*pi\n",
    "    return A"
   ]
  },
  {
   "cell_type": "code",
   "execution_count": 3,
   "metadata": {},
   "outputs": [
    {
     "ename": "NameError",
     "evalue": "name 'FlaecheKreis' is not defined",
     "output_type": "error",
     "traceback": [
      "\u001b[0;31m---------------------------------------------------------------------------\u001b[0m",
      "\u001b[0;31mNameError\u001b[0m                                 Traceback (most recent call last)",
      "\u001b[0;32m<ipython-input-3-91650707fb26>\u001b[0m in \u001b[0;36m<module>\u001b[0;34m\u001b[0m\n\u001b[0;32m----> 1\u001b[0;31m \u001b[0mprint\u001b[0m\u001b[0;34m(\u001b[0m\u001b[0mFlaecheKreis\u001b[0m\u001b[0;34m(\u001b[0m\u001b[0;36m5.5\u001b[0m\u001b[0;34m)\u001b[0m\u001b[0;34m)\u001b[0m\u001b[0;34m\u001b[0m\u001b[0;34m\u001b[0m\u001b[0m\n\u001b[0m\u001b[1;32m      2\u001b[0m \u001b[0mprint\u001b[0m\u001b[0;34m(\u001b[0m\u001b[0mFlaecheKreis02\u001b[0m\u001b[0;34m(\u001b[0m\u001b[0;36m5.5\u001b[0m\u001b[0;34m)\u001b[0m\u001b[0;34m)\u001b[0m\u001b[0;34m\u001b[0m\u001b[0;34m\u001b[0m\u001b[0m\n",
      "\u001b[0;31mNameError\u001b[0m: name 'FlaecheKreis' is not defined"
     ]
    }
   ],
   "source": [
    "print(FlaecheKreis(5.5))\n",
    "print(FlaecheKreis02(5.5))"
   ]
  },
  {
   "cell_type": "markdown",
   "metadata": {},
   "source": [
    "Beide Varianten unserer Kreisfunktion liefern exakt das gleiche Ergebnis. Der Unterschied besteht nur in der Art, wie Pi in die Funktion geholt wird. In der ersten Variante importieren wir das ganze Modul und müssen math.pi schreiben, um den Wert zu verwenden. In der zweiten Funktion haben wir nur den Wert Pi aus dem Modul importiert und brauchen deshalb nur Pi schreiben um darauf zurück zugreifen. \n",
    "\n",
    "Da wir jetzt verschiedene Funktionen haben, brauchen wir eine Möglichkeit für den User auszuwählen, welche Berechnung er durchführen möchte. Dazu verwenden wir die if-Schleife. Diese besteht im einfachsten Fall aus einer Bedingung und einer Anweisung, die ausgeführt wird, wenn die Bedingung wahr ist. Das heißt unsere Bedingung muss einen Wert von Typ boolean zurückliefern, der nur 2 Wert annehmen kann: _True_ und _False_ . In unserem Programmbeispiel könnte das etwa so aussehen. "
   ]
  },
  {
   "cell_type": "code",
   "execution_count": 12,
   "metadata": {},
   "outputs": [
    {
     "name": "stdout",
     "output_type": "stream",
     "text": [
      "Möchten sie einen Kreis berechnen? J/NJ\n",
      "Geben sie den Radius ein:5\n",
      "Die Kreisfläche beträgt:  78.53981633974483\n"
     ]
    }
   ],
   "source": [
    "auswahl=input(\"Möchten sie einen Kreis berechnen? J/N\")\n",
    "if auswahl==\"J\":\n",
    "    radius=float(input(\"Geben sie den Radius ein:\"))\n",
    "    print(\"Die Kreisfläche beträgt: \", FlaecheKreis(radius))"
   ]
  },
  {
   "cell_type": "markdown",
   "metadata": {},
   "source": [
    "In diesem kleinen Programmabschnitt wird der User zuerst gefragt ob er einen Kreis berechnen will und falls die Antwort J für ja ist, wird er nach dem Radius für die Berechnung gefragt.\n",
    "Die eigentlich Auswertung ist dabei auswahl==\"J\". Der Wert, der in auswahl gespeichert ist wird durch den Vergleichsoperator == mit dem String J verglichen. Das Ergebnis dieser Prüfung ist entweder True oder False und entscheidet, ob der eingerückt Code ausgeführt wird oder nicht. Wie bei der Definition einer Funktion steht auch am Ende der Zeile mit if ein Doppelpunkt, der dem Interpreter mitteilt, das der folgende eingerückte Code nur ausgeführt wird, wenn die Bedingung erfüllt ist.\n",
    "Was passiert dann?\n",
    "If Bedingungen können mehr, nämlich eine zweite Anweisung ausführen, wenn die Bedingung nicht wahr ist. Dieser Teil wird mit else eingeleitet. "
   ]
  },
  {
   "cell_type": "code",
   "execution_count": 13,
   "metadata": {},
   "outputs": [
    {
     "name": "stdout",
     "output_type": "stream",
     "text": [
      "Möchten sie einen Kreis oder ein Rechteck berechnen? K/RR\n",
      "Geben sie die erste Seitenlänge ein:4\n",
      "Geben sie die erste Seitenlänge ein:5\n",
      "Die Rechteckfläche beträgt:  20.0\n"
     ]
    }
   ],
   "source": [
    "auswahl=input(\"Möchten sie einen Kreis oder ein Rechteck berechnen? K/R\")\n",
    "if auswahl==\"K\":\n",
    "    radius=float(input(\"Geben sie den Radius ein:\"))\n",
    "    print(\"Die Kreisfläche beträgt: \", FlaecheKreis(radius))\n",
    "else:\n",
    "    a=float(input(\"Geben sie die erste Seitenlänge ein:\"))\n",
    "    b=float(input(\"Geben sie die zweite Seitenlänge ein:\"))\n",
    "    print(\"Die Rechteckfläche beträgt: \", FlaecheRechteck02(a,b))"
   ]
  },
  {
   "cell_type": "markdown",
   "metadata": {},
   "source": [
    "Damit können wir jetzt zwischen Rechteck und Kreis unterscheiden. Aber was ist mit Quadraten? Zum Glück können if Anweisungen geschachtelt werden. D. h. im Anwendungsblock der if Anweisung kann eine weitere if Anweisung stehen. Für den else Zweig gilt das genauso. Speziell für \n",
    "    else:\n",
    "        if:\n",
    "gibt es ein besonderes Keyword elif:\n",
    "Der Code lässt sich deshalb wie folgt erweitern:"
   ]
  },
  {
   "cell_type": "code",
   "execution_count": 14,
   "metadata": {},
   "outputs": [
    {
     "name": "stdout",
     "output_type": "stream",
     "text": [
      "Möchten sie einen Kreis, ein Rechteck oder ein Quadrat berechnen? K/R/QQ\n",
      "Geben sie die Seitenlänge ein:5\n",
      "Die Quadratfläche beträgt:  25.0\n"
     ]
    }
   ],
   "source": [
    "auswahl=input(\"Möchten sie einen Kreis, ein Rechteck oder ein Quadrat berechnen? K/R/Q\")\n",
    "if auswahl==\"K\":\n",
    "    radius=float(input(\"Geben sie den Radius ein:\"))\n",
    "    print(\"Die Kreisfläche beträgt: \", FlaecheKreis(radius))\n",
    "elif auswahl==\"R\":\n",
    "    a=float(input(\"Geben sie die erste Seitenlänge ein:\"))\n",
    "    b=float(input(\"Geben sie die zweite Seitenlänge ein:\"))\n",
    "    print(\"Die Rechteckfläche beträgt: \", FlaecheRechteck02(a,b))\n",
    "elif auswahl==\"Q\":\n",
    "    a=float(input(\"Geben sie die Seitenlänge ein:\"))\n",
    "    print(\"Die Quadratfläche beträgt: \", FlaecheQuadrat(a))\n",
    "else:\n",
    "    print(\"Diese Fläche kann ich nicht berechnen.\")"
   ]
  },
  {
   "cell_type": "markdown",
   "metadata": {},
   "source": [
    "### Übungsaufgaben:\n",
    "3. Schreiben sie eine Funktion,die die Zimmertemperatur abfragt und davon abhängig ausgibt ob es kalt oder warm ist.\n",
    "\n",
    "$T <  15$ Ausgabe: \"Es ist zu kalt\"\n",
    "\n",
    "$T > 30$ Ausgabe: \"Es ist zu warm\"\n",
    "\n",
    "$ 15 < T < 30$ Ausgabe: \"Es ist angenehm, nicht zu warm und nicht zu kalt.\"\n",
    "\n",
    "<a href=\"#solutions\">Lösung</a>"
   ]
  },
  {
   "cell_type": "markdown",
   "metadata": {},
   "source": [
    "Bislang werden unsere Funktionen genau einmal ausgeführt und dann endet das Programm. Um 10 Kreise zu berechnen, müsste das Programm 10 mal gestartet werden.\n",
    "Die meisten Programmiersprachen bieten daher die Möglichkeit, Schleifen zu erzeugen, die einen Programmteil wiederholt ausführen.\n",
    "Typische Schleifen sind die For-Schleife und die While-Schleife. Hier soll nur die For-Schleife erklärt werden, die Details werden in einem späteren Teil vertieft.\n",
    "Eine For-Schleife in Python besteht aus dem Keyword for gefolgt von der Schleifenvariablen, dem Keyword in und dem Bereich, der durchlaufen werden soll. Auch hier steht ein Doppelpunkt am Ende der Deklaration."
   ]
  },
  {
   "cell_type": "code",
   "execution_count": 1,
   "metadata": {},
   "outputs": [
    {
     "name": "stdout",
     "output_type": "stream",
     "text": [
      "Die Quadratzahl von  1  ist  1\n",
      "Die Quadratzahl von  2  ist  4\n",
      "Die Quadratzahl von  3  ist  9\n",
      "Die Quadratzahl von  4  ist  16\n",
      "Die Quadratzahl von  5  ist  25\n",
      "Die Quadratzahl von  6  ist  36\n",
      "Die Quadratzahl von  7  ist  49\n",
      "Die Quadratzahl von  8  ist  64\n",
      "Die Quadratzahl von  9  ist  81\n"
     ]
    }
   ],
   "source": [
    "#Beispiel für eine for-Schleife\n",
    "# Die Schleife gibt die Quadratzahlen für die Zahlen von 1-10 aus\n",
    "for i in range(1,10):\n",
    "    print(\"Die Quadratzahl von \", i , \" ist \",i*i)\n",
    "    "
   ]
  },
  {
   "cell_type": "markdown",
   "metadata": {},
   "source": [
    "### Übungsaufgabe:\n",
    "4. Schreiben sie eine Schleife, die für die Zahlen von r=5 bis 20 die Fläche des Kreises mit Durchmesser r! und die Fläche des Quadrats ausgibt und nebeneinander ausgibt\n"
   ]
  },
  {
   "cell_type": "markdown",
   "metadata": {},
   "source": [
    "### Hausaufgabe\n",
    "Erstellen sie weitere Funktionen für Berechnung von Flächen,Volumina und anderer Größen von geometrischen Objekten. Verwenden sie dabei soviele der bereits vorhandenen Funktionen wie möglich. "
   ]
  },
  {
   "cell_type": "markdown",
   "metadata": {},
   "source": [
    "## Teil 3\n",
    "### Datentypen\n",
    "Wir haben bislang einige grundlegende Dinge in Python kennengelernt. Vieles davon lässt sich leicht auf andere Programmiersprachen übertragen. \n",
    "Diese Dinge sind:\n",
    "+ Variablendeklaration\n",
    "+ Arithmetische Operation\n",
    "+ Funktionsdeklaration\n",
    "+ Verzweigungen\n",
    "+ Schleifen\n",
    "\n",
    "Wir haben auch bereits mit ein paar Datentypen gearbeitet. Mit Ganzzahlen (Integer), Kommazahlen (float), Logik (boolean) und Zeichenketten (String). Diese gehören zu den primitiven Datentypen. Im folgenden werden wir uns ein paar wichtige, komplexere Datentypen anschauen.\n",
    "#### Listen\n",
    "In vielen Sprachen gibt es sogenannte Arrays. Das ist eine Sammlung von Werten gleichen Typs, die zusammen abgespeichert werden. In Python gibt es Arrays in der Form nicht. Eine Liste in Python ist dem aber sehr ähnlich.\n",
    "Eine Liste kann auf verschiedene Weisen erzeugt werden. Zum Beispiel:\n"
   ]
  },
  {
   "cell_type": "code",
   "execution_count": 22,
   "metadata": {},
   "outputs": [],
   "source": [
    "eine_liste=[]\n",
    "zweite_liste=[5,6,7]"
   ]
  },
  {
   "cell_type": "markdown",
   "metadata": {},
   "source": [
    "Im ersten Fall wird eine leere Liste erzeugt und im zweiten Fall eine Liste mit 3 Zahlen. \n",
    "Mit der Funktion list() kann man andere Datentypen in Listen umwandeln.\n",
    "Man kann auf die einzelnen Werte in der Liste zugreifen indem man den Index, also die Stelle in der Liste angibt. Wichtig ist, das bei der Liste bei 0 angefangen wird zu zählen. Das erste Element aus zweite_liste ist:"
   ]
  },
  {
   "cell_type": "code",
   "execution_count": 17,
   "metadata": {},
   "outputs": [
    {
     "data": {
      "text/plain": [
       "5"
      ]
     },
     "execution_count": 17,
     "metadata": {},
     "output_type": "execute_result"
    }
   ],
   "source": [
    "zweite_liste[0]"
   ]
  },
  {
   "cell_type": "markdown",
   "metadata": {},
   "source": [
    "Mit negativen Indices kann man die Elemente von hinten erreichen."
   ]
  },
  {
   "cell_type": "code",
   "execution_count": 18,
   "metadata": {},
   "outputs": [
    {
     "data": {
      "text/plain": [
       "7"
      ]
     },
     "execution_count": 18,
     "metadata": {},
     "output_type": "execute_result"
    }
   ],
   "source": [
    "zweite_liste[-1]"
   ]
  },
  {
   "cell_type": "markdown",
   "metadata": {},
   "source": [
    "Mit append() werden Elemente an eine Liste angehängt"
   ]
  },
  {
   "cell_type": "code",
   "execution_count": 23,
   "metadata": {},
   "outputs": [
    {
     "name": "stdout",
     "output_type": "stream",
     "text": [
      "[5, 6, 7, 8]\n"
     ]
    }
   ],
   "source": [
    "zweite_liste.append(8)\n",
    "print(zweite_liste)"
   ]
  },
  {
   "cell_type": "markdown",
   "metadata": {},
   "source": [
    "Mit pop() wird das letzte Element der Liste gelöscht."
   ]
  },
  {
   "cell_type": "code",
   "execution_count": 24,
   "metadata": {},
   "outputs": [
    {
     "name": "stdout",
     "output_type": "stream",
     "text": [
      "[5, 6, 7]\n"
     ]
    }
   ],
   "source": [
    "zweite_liste.pop()\n",
    "print(zweite_liste)"
   ]
  },
  {
   "cell_type": "markdown",
   "metadata": {},
   "source": [
    "Man kann auf Teile einer Liste zugreifen, indem man Indexbereiche angibt. Dabei wird der erste Index und der letzte angegeben, getrennt durch einen Doppelpunkt. Dies wird in Python slicing genannt. "
   ]
  },
  {
   "cell_type": "code",
   "execution_count": 25,
   "metadata": {},
   "outputs": [
    {
     "data": {
      "text/plain": [
       "[6]"
      ]
     },
     "execution_count": 25,
     "metadata": {},
     "output_type": "execute_result"
    }
   ],
   "source": [
    "zweite_liste[1:2]"
   ]
  },
  {
   "cell_type": "markdown",
   "metadata": {},
   "source": [
    "Auf den ersten Blick scheint es verwirrend, das hier nur der Wert 6 ausgeben wird. Aber der Index verweist nicht auf das Element selbst sondern auf den Beginn des Elements, quasi die Trennwand zwischen den Elementen. Dabei wird auch deutlich, warum das Element E1 mit 0 indiziert wird und mit [1:2] nur das Element E2 ausgegeben wird. \n",
    "```\n",
    "| E1 | E2 | E3 | E4 |\n",
    "0    1    2    3    4\n",
    "```"
   ]
  },
  {
   "cell_type": "markdown",
   "metadata": {},
   "source": [
    "Listen und andere Datentypen haben in Python die Eigenschaft, das sie iterierbar sind (iterable). Deshalb lassen sich in Python Listen einfach als Bereich für eine Schleife angegeben. "
   ]
  },
  {
   "cell_type": "code",
   "execution_count": 29,
   "metadata": {},
   "outputs": [
    {
     "name": "stdout",
     "output_type": "stream",
     "text": [
      "eins\n",
      "zwei\n",
      "drei\n",
      "vier\n"
     ]
    }
   ],
   "source": [
    "liste_von_strings=[\"eins\",\"zwei\",\"drei\", \"vier\"]\n",
    "for i in liste_von_strings:\n",
    "    print(i)"
   ]
  },
  {
   "cell_type": "markdown",
   "metadata": {},
   "source": [
    "Auch Strings lassen sich auf diese Weise iterieren"
   ]
  },
  {
   "cell_type": "code",
   "execution_count": 30,
   "metadata": {},
   "outputs": [
    {
     "name": "stdout",
     "output_type": "stream",
     "text": [
      "E\n",
      "i\n",
      "n\n",
      " \n",
      "l\n",
      "a\n",
      "n\n",
      "g\n",
      "e\n",
      "r\n",
      " \n",
      "S\n",
      "t\n",
      "r\n",
      "i\n",
      "n\n",
      "g\n"
     ]
    }
   ],
   "source": [
    "text=\"Ein langer String\"\n",
    "for i in text:\n",
    "    print(i)"
   ]
  },
  {
   "cell_type": "markdown",
   "metadata": {},
   "source": [
    "Listen lassen sich verschachteln und verhalten sich ähnlich wie mehrdimensionale Arrays:"
   ]
  },
  {
   "cell_type": "code",
   "execution_count": 32,
   "metadata": {},
   "outputs": [
    {
     "name": "stdout",
     "output_type": "stream",
     "text": [
      "[['a', 'b', 'c'], [1, 2, 3]]\n",
      "2\n"
     ]
    }
   ],
   "source": [
    "liste_eins=[\"a\",\"b\",\"c\"]\n",
    "liste_zwei=[1,2,3]\n",
    "liste_drei=[liste_eins,liste_zwei]\n",
    "print(liste_drei)\n",
    "print(liste_drei[1][1])"
   ]
  },
  {
   "cell_type": "markdown",
   "metadata": {},
   "source": [
    "Mehr Details zu Listen folgen später."
   ]
  },
  {
   "cell_type": "markdown",
   "metadata": {},
   "source": [
    "#### Tupel\n",
    "Ein Tupel (tuple) ist einer Liste sehr ähnlich. Ein Tupel ist eine Sammlung von Werten. Sie lassen sich wie Listen indizieren, der entscheidende Unterschied ist, das Tupel unveränderbar sind. Tupel lassen sich wie Listen erzeugen allerdings mit runden Klammern statt mit eckigen."
   ]
  },
  {
   "cell_type": "code",
   "execution_count": 34,
   "metadata": {},
   "outputs": [
    {
     "name": "stdout",
     "output_type": "stream",
     "text": [
      "(1, 2, 4, 3)\n",
      "3\n"
     ]
    }
   ],
   "source": [
    "ein_tupel=(1,2,4,3)\n",
    "print(ein_tupel)\n",
    "print(ein_tupel[3])"
   ]
  },
  {
   "cell_type": "markdown",
   "metadata": {},
   "source": [
    "Eine wichtige Funktionalität von Tupel ist das Entpacken (tuple unpacking)\n",
    "Dabei werden die Werte im Tupel einzelnen Variablen zugewiesen."
   ]
  },
  {
   "cell_type": "code",
   "execution_count": 37,
   "metadata": {},
   "outputs": [
    {
     "name": "stdout",
     "output_type": "stream",
     "text": [
      "1\n",
      "2\n"
     ]
    }
   ],
   "source": [
    "tupel_zwei=(1,2)\n",
    "x,y=tupel_zwei\n",
    "print(x)\n",
    "print(y)"
   ]
  },
  {
   "cell_type": "markdown",
   "metadata": {},
   "source": [
    "Listen und Tupel lassen sich ineinander umwandeln:"
   ]
  },
  {
   "cell_type": "code",
   "execution_count": 39,
   "metadata": {},
   "outputs": [],
   "source": [
    "tupel_drei=list(liste_drei)\n",
    "liste_vier=tuple(tupel_drei)"
   ]
  },
  {
   "cell_type": "markdown",
   "metadata": {},
   "source": [
    "#### Dictionary\n",
    "Der nächste Datentyp in diesem Abschnitt ist das Dictionary.\n",
    "Das Dictionary enthält paarweise Kombination von eine Schlüssel(key) und einem Wert (value).\n",
    "Ein Dictionary kann anders als Tupel und Listen nicht über den Index angesprochen werden sondern nur über den Schlüssel.\n",
    "Die Schlüssel sind Strings und jeder Key darf nur einmal vorkommen. Werte dürfen sich dagegen wiederholen.\n",
    "Ein Dictionary wird mit geschweiften Klammern erzeugt:"
   ]
  },
  {
   "cell_type": "code",
   "execution_count": 40,
   "metadata": {},
   "outputs": [
    {
     "name": "stdout",
     "output_type": "stream",
     "text": [
      "1\n"
     ]
    }
   ],
   "source": [
    "dict_eins={\"Eins\": 1,\"Zwei\": 2 , \"Drei\" : 3}\n",
    "print(dict_eins[\"Eins\"])"
   ]
  },
  {
   "cell_type": "markdown",
   "metadata": {},
   "source": [
    "Man kann auch über Dictionaries mit einer For-Schleife iterieren."
   ]
  },
  {
   "cell_type": "code",
   "execution_count": 42,
   "metadata": {},
   "outputs": [
    {
     "name": "stdout",
     "output_type": "stream",
     "text": [
      "Eins\n",
      "Zwei\n",
      "Drei\n"
     ]
    }
   ],
   "source": [
    "# Schleife über die Schlüssel des Dictionaries\n",
    "for key in dict_eins:\n",
    "    print( key)"
   ]
  },
  {
   "cell_type": "code",
   "execution_count": 43,
   "metadata": {},
   "outputs": [
    {
     "name": "stdout",
     "output_type": "stream",
     "text": [
      "1\n",
      "2\n",
      "3\n"
     ]
    }
   ],
   "source": [
    "# Schleife über die Wert des dictionaries\n",
    "for value in dict_eins.values():\n",
    "    print(value)"
   ]
  },
  {
   "cell_type": "code",
   "execution_count": 44,
   "metadata": {},
   "outputs": [
    {
     "name": "stdout",
     "output_type": "stream",
     "text": [
      "Der Schlüssel ist  Eins  und der Wert  1\n",
      "Der Schlüssel ist  Zwei  und der Wert  2\n",
      "Der Schlüssel ist  Drei  und der Wert  3\n"
     ]
    }
   ],
   "source": [
    "# Schleife über die Paare \n",
    "for key, value in dict_eins.items():\n",
    "    print(\"Der Schlüssel ist \", key, \" und der Wert \", value)"
   ]
  },
  {
   "cell_type": "markdown",
   "metadata": {},
   "source": [
    "In dem letzten Beispiel wurde das tuple unpacking benutzt um den Rückgabewert der Funktion items zwei Variablen zuzuweisen."
   ]
  },
  {
   "cell_type": "markdown",
   "metadata": {},
   "source": [
    "## Lösungen\n",
    "<a id=\"solutions\"></a>"
   ]
  },
  {
   "cell_type": "markdown",
   "metadata": {},
   "source": [
    "Aufgabe 1:"
   ]
  },
  {
   "cell_type": "code",
   "execution_count": 45,
   "metadata": {},
   "outputs": [],
   "source": [
    "def Quader(a,b,c):\n",
    "    s1=FlaecheRechteck02(a,b)\n",
    "    s2=FlaecheRechteck02(a,c)\n",
    "    s3=FlaecheRechteck02(b,c)\n",
    "    return 2*s1+2*s2+2*s3"
   ]
  },
  {
   "cell_type": "markdown",
   "metadata": {},
   "source": [
    "Aufgabe 2:"
   ]
  },
  {
   "cell_type": "code",
   "execution_count": 16,
   "metadata": {},
   "outputs": [],
   "source": [
    "def UmfangRechteck(a,b):\n",
    "    return 2*a+2*b"
   ]
  },
  {
   "cell_type": "markdown",
   "metadata": {},
   "source": [
    "Aufgabe 3:"
   ]
  },
  {
   "cell_type": "code",
   "execution_count": 20,
   "metadata": {},
   "outputs": [],
   "source": [
    "def Temperatur(t):\n",
    "    if t<15:\n",
    "        print(\"Es ist zu kalt\")\n",
    "    elif t>30:\n",
    "        print(\"Es ist zu warm\")\n",
    "    else:\n",
    "        print(\"Es ist angenehm, nicht zu warm und nicht zu kalt.\")"
   ]
  },
  {
   "cell_type": "markdown",
   "metadata": {},
   "source": [
    "Aufgabe 4:"
   ]
  },
  {
   "cell_type": "code",
   "execution_count": 11,
   "metadata": {},
   "outputs": [
    {
     "name": "stdout",
     "output_type": "stream",
     "text": [
      "Kreisfläche: 19.634954084936208  Quadratfläche:  25\n",
      "Kreisfläche: 28.274333882308138  Quadratfläche:  36\n",
      "Kreisfläche: 38.48451000647496  Quadratfläche:  49\n",
      "Kreisfläche: 50.26548245743669  Quadratfläche:  64\n",
      "Kreisfläche: 63.61725123519331  Quadratfläche:  81\n",
      "Kreisfläche: 78.53981633974483  Quadratfläche:  100\n",
      "Kreisfläche: 95.03317777109125  Quadratfläche:  121\n",
      "Kreisfläche: 113.09733552923255  Quadratfläche:  144\n",
      "Kreisfläche: 132.73228961416876  Quadratfläche:  169\n",
      "Kreisfläche: 153.93804002589985  Quadratfläche:  196\n",
      "Kreisfläche: 176.71458676442586  Quadratfläche:  225\n",
      "Kreisfläche: 201.06192982974676  Quadratfläche:  256\n",
      "Kreisfläche: 226.98006922186255  Quadratfläche:  289\n",
      "Kreisfläche: 254.46900494077323  Quadratfläche:  324\n",
      "Kreisfläche: 283.5287369864788  Quadratfläche:  361\n"
     ]
    }
   ],
   "source": [
    "for r in range(5,20):\n",
    "    print(\"Kreisfläche:\", FlaecheKreis(r/2), \" Quadratfläche: \", FlaecheQuadrat(r))\n"
   ]
  },
  {
   "cell_type": "markdown",
   "metadata": {},
   "source": [
    "\n"
   ]
  },
  {
   "cell_type": "code",
   "execution_count": null,
   "metadata": {},
   "outputs": [],
   "source": []
  }
 ],
 "metadata": {
  "kernelspec": {
   "display_name": "Python 3",
   "language": "python",
   "name": "python3"
  },
  "language_info": {
   "codemirror_mode": {
    "name": "ipython",
    "version": 3
   },
   "file_extension": ".py",
   "mimetype": "text/x-python",
   "name": "python",
   "nbconvert_exporter": "python",
   "pygments_lexer": "ipython3",
   "version": "3.8.1"
  }
 },
 "nbformat": 4,
 "nbformat_minor": 2
}
