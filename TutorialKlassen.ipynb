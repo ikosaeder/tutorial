{
 "cells": [
  {
   "cell_type": "markdown",
   "metadata": {},
   "source": [
    "# Objektorientierte Programmierung\n",
    "In der objektorientierten Programmierung werden Programmteile abstrahiert, indem man sie Objekten zuordnet. In einem Objekt werden Eigenschaften und Methoden gespeichert.  \n",
    "Ein Stück Text ist ein Objekt vom Typ String. Wird ein neues Objekt im Speicher angelegt, nennt man dies eine Instanz. Die Variablen und Methoden einer Klasse werden Attribute genannt. Dabei wird zwischen Klassenattributen, die zu Klasse gehören und Instanzattributen, die nur zur aktuellen Instanz gehören, unterschieden.\n",
    "\n",
    "## Klassen\n",
    "Eine Klasse fasst Eigenschaften eines Objekts zusammen. Sie stellt die Beschreibung bzw. Definition des Objekttyps dar. \n",
    "\n",
    "\n"
   ]
  },
  {
   "cell_type": "code",
   "execution_count": 1,
   "metadata": {},
   "outputs": [],
   "source": [
    "class Konto:\n",
    "    '''Ein Beispiel für eine einfache Klasse Konto mit den Eigenschaften Inhaber und Kontonummer'''\n",
    "    def __init__(self,inhaber,kontonummer):\n",
    "        self.inhaber = inhaber\n",
    "        self.kontonummer = kontonummer"
   ]
  },
  {
   "cell_type": "markdown",
   "metadata": {},
   "source": [
    "Mit dieser Beschreibung eines Kontos können wir nun Instanzen erzeugen."
   ]
  },
  {
   "cell_type": "code",
   "execution_count": 2,
   "metadata": {},
   "outputs": [],
   "source": [
    "konto1 = Konto(\"Donald Duck\",1)"
   ]
  },
  {
   "cell_type": "markdown",
   "metadata": {},
   "source": [
    "Mit der Instanz können wir noch nicht viel machen. Deshalb fügen wir eine weitere Eigenschaft und 2 Methoden hinzu:"
   ]
  },
  {
   "cell_type": "code",
   "execution_count": 3,
   "metadata": {},
   "outputs": [],
   "source": [
    "class Konto2:\n",
    "    '''Ein Beispiel für eine einfache Klasse Konto mit den Eigenschaften Inhaber und Kontonummer'''\n",
    "    def __init__(self,inhaber,kontonummer,betrag=0):\n",
    "        self.inhaber = inhaber\n",
    "        self.kontonummer = kontonummer\n",
    "        self.kontostand = betrag\n",
    "        \n",
    "    def einzahlen(self,betrag):\n",
    "        self.kontostand += betrag\n",
    "        \n",
    "    def auszahlen(self,betrag):\n",
    "        self.kontostand -= betrag\n",
    "        \n",
    "    def kontostand_abfragen(self):\n",
    "        return self.kontostand"
   ]
  },
  {
   "cell_type": "markdown",
   "metadata": {},
   "source": [
    "Wenn nun eine Instanz dieser neuen Klasse anlegen, dann können wir mit den Methoden einzahlen und auszahlen den Kontostand verändern."
   ]
  },
  {
   "cell_type": "code",
   "execution_count": 28,
   "metadata": {},
   "outputs": [],
   "source": [
    "konto2 = Konto2(\"Dagobert Duck\",1,betrag = 1_000_000)\n",
    "kontox =Konto2(\"Daisy Duck\",5)"
   ]
  },
  {
   "cell_type": "markdown",
   "metadata": {},
   "source": [
    "Mit der Methode kontostand_abfragen bekommen wir den Kontostand mitgeteilt."
   ]
  },
  {
   "cell_type": "code",
   "execution_count": 30,
   "metadata": {},
   "outputs": [
    {
     "data": {
      "text/plain": [
       "0"
      ]
     },
     "execution_count": 30,
     "metadata": {},
     "output_type": "execute_result"
    }
   ],
   "source": [
    "konto2.kontostand_abfragen()\n",
    "kontox.kontostand_abfragen()"
   ]
  },
  {
   "cell_type": "code",
   "execution_count": 6,
   "metadata": {},
   "outputs": [
    {
     "data": {
      "text/plain": [
       "999000"
      ]
     },
     "execution_count": 6,
     "metadata": {},
     "output_type": "execute_result"
    }
   ],
   "source": [
    "konto2.auszahlen(1000)\n",
    "konto2.kontostand_abfragen()"
   ]
  },
  {
   "cell_type": "markdown",
   "metadata": {},
   "source": [
    "Diese Implementierung funktioniert schon sehr gut, hat aber einige Probleme. Zum Beispiel kann problemlos mehr Geld abgehoben werden als auf dem Konto ist und die Kontonummer sollte eindeutig sein. In der nächsten Version werden beide Probleme behoben."
   ]
  },
  {
   "cell_type": "code",
   "execution_count": 40,
   "metadata": {},
   "outputs": [],
   "source": [
    "import itertools\n",
    "class Konto3:\n",
    "    ktn = itertools.count()\n",
    "    '''Ein Beispiel für eine einfache Klasse Konto mit den Eigenschaften Inhaber und Kontonummer'''\n",
    "    def __init__(self,inhaber,betrag=0):\n",
    "        self.inhaber = inhaber\n",
    "        self.kontonummer = next(Konto3.ktn)\n",
    "        self.kontostand = betrag\n",
    "    def einzahlen(self,betrag):\n",
    "        self.kontostand += betrag\n",
    "    def auszahlen(self,betrag):\n",
    "        if self.kontostand >= betrag:\n",
    "            self.kontostand -= betrag\n",
    "        else:\n",
    "            print(\"Nicht genug Asche\")\n",
    "    def kontostand_abfragen(self):\n",
    "        return self.kontostand"
   ]
  },
  {
   "cell_type": "code",
   "execution_count": 8,
   "metadata": {},
   "outputs": [
    {
     "name": "stdout",
     "output_type": "stream",
     "text": [
      "Nicht genug Asche\n"
     ]
    }
   ],
   "source": [
    "konto3 = Konto3(\"Daisy Duck\",betrag = 1000)\n",
    "konto3.auszahlen(2000)"
   ]
  },
  {
   "cell_type": "code",
   "execution_count": 9,
   "metadata": {},
   "outputs": [
    {
     "data": {
      "text/plain": [
       "1000"
      ]
     },
     "execution_count": 9,
     "metadata": {},
     "output_type": "execute_result"
    }
   ],
   "source": [
    "konto3.kontostand_abfragen()\n"
   ]
  },
  {
   "cell_type": "code",
   "execution_count": 34,
   "metadata": {},
   "outputs": [
    {
     "data": {
      "text/plain": [
       "0"
      ]
     },
     "execution_count": 34,
     "metadata": {},
     "output_type": "execute_result"
    }
   ],
   "source": [
    "konto3.kontonummer"
   ]
  },
  {
   "cell_type": "markdown",
   "metadata": {},
   "source": [
    "## Vererbung\n",
    "Mit der Klasse Konto3 kann man schon einen Teil der Funktionen eines Kontos nachstellen. Aber es gibt ja verschiedene Arten von Konten. Zum Beispiel ein Girokonto, das vielleicht ein Dispolimit hat. Ein Sparbuch, das Zinsen auf Guthaben gewährt. Jede neue Art von Konto braucht eine eigene Klasse. Aber Konten haben viele Dinge gemeinsam. Damit gemeinsame Eigenschaften von verschiedenen Objekttypen nur einmal implementiert werden müssen, gibt es das Konzept der Vererbung. Alles Gemeinsame wird in einer sogenannten Basisklasse definiert. Dinge, die unterschiedlich sind, werden in einer abgeleiteten Klasse definiert. Diese abgeleitete Klasse erbt die gemeinsamen Eigenschaften der Basisklasse."
   ]
  },
  {
   "cell_type": "code",
   "execution_count": 11,
   "metadata": {},
   "outputs": [],
   "source": [
    "class Girokonto(Konto3):\n",
    "    def __init__(self, inhaber,betrag = 0, dispolimit = 0):\n",
    "        super().__init__(inhaber,betrag)\n",
    "        self.dispo = dispolimit\n",
    "        \n",
    "    def auszahlen(self,betrag):\n",
    "        if self.kontostand + self.dispo >= betrag:\n",
    "            self.kontostand -= betrag\n",
    "        else:\n",
    "            print(\"Dispolimit überschritten\")"
   ]
  },
  {
   "cell_type": "code",
   "execution_count": 12,
   "metadata": {},
   "outputs": [],
   "source": [
    "giro1 = Girokonto(\"Gustav Gans\",betrag = 1000, dispolimit = 1000)\n",
    "giro1.auszahlen(1500)"
   ]
  },
  {
   "cell_type": "code",
   "execution_count": 13,
   "metadata": {},
   "outputs": [
    {
     "data": {
      "text/plain": [
       "-500"
      ]
     },
     "execution_count": 13,
     "metadata": {},
     "output_type": "execute_result"
    }
   ],
   "source": [
    "giro1.kontostand_abfragen()"
   ]
  },
  {
   "cell_type": "code",
   "execution_count": 14,
   "metadata": {},
   "outputs": [
    {
     "name": "stdout",
     "output_type": "stream",
     "text": [
      "Dispolimit überschritten\n"
     ]
    }
   ],
   "source": [
    "giro1.auszahlen(1000)"
   ]
  },
  {
   "cell_type": "markdown",
   "metadata": {},
   "source": [
    "Das Konto giro1 ist ein Objekt vom Typ Girokonto. Die einzige Eigenschaft diese Klasse ist das Dispolimit. Trotzdem kann der Kontostand mit *kontostand_abfragen* abgefragt werden. Diese Methode hat die Klasse Girokonto von Konto geerbt. Die Methode auszahlen wurde in Girokonto überschrieben, um die neue Eigenschaft zu berücksichtigen."
   ]
  },
  {
   "cell_type": "code",
   "execution_count": 46,
   "metadata": {},
   "outputs": [
    {
     "name": "stdout",
     "output_type": "stream",
     "text": [
      "103.0\n"
     ]
    }
   ],
   "source": [
    "class Sparbuch(Konto3):\n",
    "    def __init__(self, inhaber,betrag=0,zinssatz=1.5):\n",
    "        super().__init__(inhaber,betrag)\n",
    "        self.zinssatz = zinssatz\n",
    "    \n",
    "    def berechne_zinsen(self,tage):\n",
    "        zinsen = self.kontostand * self.zinssatz/100 * tage/ 360\n",
    "        self.kontostand += zinsen\n",
    "        return\n",
    "sp1 = Sparbuch(\"Trick\",betrag=100)\n",
    "sp1.berechne_zinsen(720)\n",
    "print(sp1.kontostand_abfragen())"
   ]
  },
  {
   "cell_type": "markdown",
   "metadata": {},
   "source": [
    "## Mehrfachvererbung\n"
   ]
  },
  {
   "cell_type": "code",
   "execution_count": 58,
   "metadata": {},
   "outputs": [
    {
     "ename": "TypeError",
     "evalue": "__init__() takes from 2 to 4 positional arguments but 5 were given",
     "output_type": "error",
     "traceback": [
      "\u001b[0;31m---------------------------------------------------------------------------\u001b[0m",
      "\u001b[0;31mTypeError\u001b[0m                                 Traceback (most recent call last)",
      "\u001b[0;32m<ipython-input-58-853ed4299e24>\u001b[0m in \u001b[0;36m<module>\u001b[0;34m\u001b[0m\n\u001b[1;32m      3\u001b[0m         \u001b[0msuper\u001b[0m\u001b[0;34m(\u001b[0m\u001b[0;34m)\u001b[0m\u001b[0;34m.\u001b[0m\u001b[0m__init__\u001b[0m\u001b[0;34m(\u001b[0m\u001b[0minhaber\u001b[0m\u001b[0;34m,\u001b[0m\u001b[0mbetrag\u001b[0m\u001b[0;34m,\u001b[0m\u001b[0mdispolimit\u001b[0m\u001b[0;34m,\u001b[0m\u001b[0mzinssatz\u001b[0m\u001b[0;34m)\u001b[0m\u001b[0;34m\u001b[0m\u001b[0;34m\u001b[0m\u001b[0m\n\u001b[1;32m      4\u001b[0m \u001b[0;34m\u001b[0m\u001b[0m\n\u001b[0;32m----> 5\u001b[0;31m \u001b[0mspg\u001b[0m\u001b[0;34m=\u001b[0m \u001b[0mSparGiro\u001b[0m\u001b[0;34m(\u001b[0m\u001b[0;34m\"Test\"\u001b[0m\u001b[0;34m,\u001b[0m\u001b[0;36m59\u001b[0m\u001b[0;34m,\u001b[0m\u001b[0;36m1.4\u001b[0m\u001b[0;34m,\u001b[0m\u001b[0;36m5000\u001b[0m\u001b[0;34m)\u001b[0m\u001b[0;34m\u001b[0m\u001b[0;34m\u001b[0m\u001b[0m\n\u001b[0m\u001b[1;32m      6\u001b[0m \u001b[0mprint\u001b[0m\u001b[0;34m(\u001b[0m\u001b[0mspg\u001b[0m\u001b[0;34m.\u001b[0m\u001b[0mdispo\u001b[0m\u001b[0;34m)\u001b[0m\u001b[0;34m\u001b[0m\u001b[0;34m\u001b[0m\u001b[0m\n",
      "\u001b[0;32m<ipython-input-58-853ed4299e24>\u001b[0m in \u001b[0;36m__init__\u001b[0;34m(self, inhaber, betrag, zinssatz, dispolimit)\u001b[0m\n\u001b[1;32m      1\u001b[0m \u001b[0;32mclass\u001b[0m \u001b[0mSparGiro\u001b[0m\u001b[0;34m(\u001b[0m\u001b[0mGirokonto\u001b[0m\u001b[0;34m,\u001b[0m\u001b[0mSparbuch\u001b[0m\u001b[0;34m)\u001b[0m\u001b[0;34m:\u001b[0m\u001b[0;34m\u001b[0m\u001b[0;34m\u001b[0m\u001b[0m\n\u001b[1;32m      2\u001b[0m     \u001b[0;32mdef\u001b[0m \u001b[0m__init__\u001b[0m\u001b[0;34m(\u001b[0m\u001b[0mself\u001b[0m\u001b[0;34m,\u001b[0m\u001b[0minhaber\u001b[0m\u001b[0;34m,\u001b[0m\u001b[0mbetrag\u001b[0m\u001b[0;34m=\u001b[0m\u001b[0;36m0\u001b[0m\u001b[0;34m,\u001b[0m\u001b[0mzinssatz\u001b[0m\u001b[0;34m=\u001b[0m\u001b[0;36m0\u001b[0m\u001b[0;34m,\u001b[0m\u001b[0mdispolimit\u001b[0m\u001b[0;34m=\u001b[0m\u001b[0;36m0\u001b[0m\u001b[0;34m)\u001b[0m\u001b[0;34m:\u001b[0m\u001b[0;34m\u001b[0m\u001b[0;34m\u001b[0m\u001b[0m\n\u001b[0;32m----> 3\u001b[0;31m         \u001b[0msuper\u001b[0m\u001b[0;34m(\u001b[0m\u001b[0;34m)\u001b[0m\u001b[0;34m.\u001b[0m\u001b[0m__init__\u001b[0m\u001b[0;34m(\u001b[0m\u001b[0minhaber\u001b[0m\u001b[0;34m,\u001b[0m\u001b[0mbetrag\u001b[0m\u001b[0;34m,\u001b[0m\u001b[0mdispolimit\u001b[0m\u001b[0;34m,\u001b[0m\u001b[0mzinssatz\u001b[0m\u001b[0;34m)\u001b[0m\u001b[0;34m\u001b[0m\u001b[0;34m\u001b[0m\u001b[0m\n\u001b[0m\u001b[1;32m      4\u001b[0m \u001b[0;34m\u001b[0m\u001b[0m\n\u001b[1;32m      5\u001b[0m \u001b[0mspg\u001b[0m\u001b[0;34m=\u001b[0m \u001b[0mSparGiro\u001b[0m\u001b[0;34m(\u001b[0m\u001b[0;34m\"Test\"\u001b[0m\u001b[0;34m,\u001b[0m\u001b[0;36m59\u001b[0m\u001b[0;34m,\u001b[0m\u001b[0;36m1.4\u001b[0m\u001b[0;34m,\u001b[0m\u001b[0;36m5000\u001b[0m\u001b[0;34m)\u001b[0m\u001b[0;34m\u001b[0m\u001b[0;34m\u001b[0m\u001b[0m\n",
      "\u001b[0;31mTypeError\u001b[0m: __init__() takes from 2 to 4 positional arguments but 5 were given"
     ]
    }
   ],
   "source": [
    "class SparGiro(Girokonto,Sparbuch):\n",
    "    def __init__(self,inhaber,betrag=0,zinssatz=0,dispolimit=0):\n",
    "        super().__init__(inhaber,betrag,dispolimit)\n",
    "        \n",
    "spg= SparGiro(\"Test\",59,1.4,5000)\n",
    "print(spg.dispo)"
   ]
  },
  {
   "cell_type": "markdown",
   "metadata": {},
   "source": [
    "# Beispiel Fahrzeug\n",
    "Die Klasse Fahrzeug soll als Basisklasse für eine ganze Hierarchie von abgeleiteten Klassen gelten.\n"
   ]
  },
  {
   "cell_type": "code",
   "execution_count": 15,
   "metadata": {},
   "outputs": [],
   "source": [
    "class Fahrzeug:\n",
    "    def __init__(self):\n",
    "        pass\n",
    "class PKW:\n",
    "    pass\n",
    "class Motorad:\n",
    "    pass\n",
    "class LKW:\n",
    "    pass\n",
    "class Bus:\n",
    "    pass"
   ]
  },
  {
   "cell_type": "code",
   "execution_count": null,
   "metadata": {},
   "outputs": [],
   "source": []
  },
  {
   "cell_type": "code",
   "execution_count": 1,
   "metadata": {},
   "outputs": [
    {
     "data": {
      "image/svg+xml": [
       "<?xml version=\"1.0\" encoding=\"UTF-8\" standalone=\"no\"?>\n",
       "<!DOCTYPE svg PUBLIC \"-//W3C//DTD SVG 1.1//EN\"\n",
       " \"http://www.w3.org/Graphics/SVG/1.1/DTD/svg11.dtd\">\n",
       "<!-- Generated by graphviz version 2.30.1 (20201013.1554)\n",
       " -->\n",
       "<!-- Title: %3 Pages: 1 -->\n",
       "<svg width=\"351pt\" height=\"116pt\"\n",
       " viewBox=\"0.00 0.00 351.00 116.00\" xmlns=\"http://www.w3.org/2000/svg\" xmlns:xlink=\"http://www.w3.org/1999/xlink\">\n",
       "<g id=\"graph0\" class=\"graph\" transform=\"scale(1 1) rotate(0) translate(4 112)\">\n",
       "<title>%3</title>\n",
       "<polygon fill=\"white\" stroke=\"white\" points=\"-4,5 -4,-112 348,-112 348,5 -4,5\"/>\n",
       "<!-- B -->\n",
       "<g id=\"node1\" class=\"node\"><title>B</title>\n",
       "<ellipse fill=\"none\" stroke=\"black\" cx=\"167\" cy=\"-90\" rx=\"53.4184\" ry=\"18\"/>\n",
       "<text text-anchor=\"middle\" x=\"167\" y=\"-86.3\" font-family=\"Times,serif\" font-size=\"14.00\">Fahrzeug</text>\n",
       "</g>\n",
       "<!-- P -->\n",
       "<g id=\"node2\" class=\"node\"><title>P</title>\n",
       "<ellipse fill=\"none\" stroke=\"black\" cx=\"33\" cy=\"-18\" rx=\"33.2209\" ry=\"18\"/>\n",
       "<text text-anchor=\"middle\" x=\"33\" y=\"-14.3\" font-family=\"Times,serif\" font-size=\"14.00\">PKW</text>\n",
       "</g>\n",
       "<!-- B&#45;&gt;P -->\n",
       "<g id=\"edge1\" class=\"edge\"><title>B&#45;&gt;P</title>\n",
       "<path fill=\"none\" stroke=\"black\" d=\"M139.235,-74.496C117.675,-63.2331 87.745,-47.5982 65.1466,-35.793\"/>\n",
       "<polygon fill=\"black\" stroke=\"black\" points=\"66.7486,-32.6811 56.2645,-31.1531 63.5074,-38.8855 66.7486,-32.6811\"/>\n",
       "</g>\n",
       "<!-- L -->\n",
       "<g id=\"node3\" class=\"node\"><title>L</title>\n",
       "<ellipse fill=\"none\" stroke=\"black\" cx=\"117\" cy=\"-18\" rx=\"33.2209\" ry=\"18\"/>\n",
       "<text text-anchor=\"middle\" x=\"117\" y=\"-14.3\" font-family=\"Times,serif\" font-size=\"14.00\">LKW</text>\n",
       "</g>\n",
       "<!-- B&#45;&gt;L -->\n",
       "<g id=\"edge2\" class=\"edge\"><title>B&#45;&gt;L</title>\n",
       "<path fill=\"none\" stroke=\"black\" d=\"M155.151,-72.411C148.96,-63.7439 141.265,-52.9711 134.411,-43.3754\"/>\n",
       "<polygon fill=\"black\" stroke=\"black\" points=\"137.081,-41.0911 128.42,-34.9881 131.384,-45.1598 137.081,-41.0911\"/>\n",
       "</g>\n",
       "<!-- M -->\n",
       "<g id=\"node4\" class=\"node\"><title>M</title>\n",
       "<ellipse fill=\"none\" stroke=\"black\" cx=\"218\" cy=\"-18\" rx=\"50.0684\" ry=\"18\"/>\n",
       "<text text-anchor=\"middle\" x=\"218\" y=\"-14.3\" font-family=\"Times,serif\" font-size=\"14.00\">Motorad</text>\n",
       "</g>\n",
       "<!-- B&#45;&gt;M -->\n",
       "<g id=\"edge3\" class=\"edge\"><title>B&#45;&gt;M</title>\n",
       "<path fill=\"none\" stroke=\"black\" d=\"M179.086,-72.411C185.22,-63.9915 192.802,-53.585 199.639,-44.2007\"/>\n",
       "<polygon fill=\"black\" stroke=\"black\" points=\"202.586,-46.0996 205.646,-35.9562 196.929,-41.9776 202.586,-46.0996\"/>\n",
       "</g>\n",
       "<!-- U -->\n",
       "<g id=\"node5\" class=\"node\"><title>U</title>\n",
       "<ellipse fill=\"none\" stroke=\"black\" cx=\"315\" cy=\"-18\" rx=\"28.3955\" ry=\"18\"/>\n",
       "<text text-anchor=\"middle\" x=\"315\" y=\"-14.3\" font-family=\"Times,serif\" font-size=\"14.00\">Bus</text>\n",
       "</g>\n",
       "<!-- B&#45;&gt;U -->\n",
       "<g id=\"edge4\" class=\"edge\"><title>B&#45;&gt;U</title>\n",
       "<path fill=\"none\" stroke=\"black\" d=\"M196.594,-75.0027C221.727,-63.1156 257.704,-46.0994 283.394,-33.9486\"/>\n",
       "<polygon fill=\"black\" stroke=\"black\" points=\"285.149,-36.9904 292.693,-29.5508 282.156,-30.6625 285.149,-36.9904\"/>\n",
       "</g>\n",
       "</g>\n",
       "</svg>\n"
      ],
      "text/plain": [
       "<graphviz.dot.Digraph at 0x7f1114db7ee0>"
      ]
     },
     "execution_count": 1,
     "metadata": {},
     "output_type": "execute_result"
    }
   ],
   "source": [
    "from graphviz import Digraph\n",
    "\n",
    "dot = Digraph(comment = 'Class Hierarchie',format = 'png')\n",
    "dot.node('B', 'Fahrzeug')\n",
    "dot.node('P', 'PKW')\n",
    "dot.node('L', 'LKW')\n",
    "dot.node('M', 'Motorad')\n",
    "dot.node('U', 'Bus')\n",
    "dot.edges(['BP', 'BL','BM','BU'])\n",
    "#dot.render('test-output/round-table.gv', view=True)\n",
    "dot"
   ]
  },
  {
   "cell_type": "markdown",
   "metadata": {},
   "source": [
    "Es gibt eine Basisklasse Fahrzeug und 4 abgeleitete Klassen. Zuerst werden die gemeinsamen Merkmale festgelegt. Ein Fahrzeug hat beispielsweise einen Hersteller, eine Farbe und eine Höchstgeschwindigkeit. \n",
    "Das sind Merkmale, die alle Fahrzeuge gemeinsam haben. "
   ]
  },
  {
   "cell_type": "markdown",
   "metadata": {},
   "source": [
    "Worin unterscheiden sich die verschiedenen Arten? Bei einem PKW gibt es verschiedene Verdecktypen. Es gibt geschlossen und offen. Es gibt unterschiedliche Bauformen je nach Anzahl der Türen: 3 Türer, 4 Türer und 5 Türer. Es gibt verschiedene Getriebeformen mit einer unterschiedlichen Anzahl an Gängen. "
   ]
  },
  {
   "cell_type": "markdown",
   "metadata": {},
   "source": [
    "Beim LKW unterscheidet man verschiedene Arten nach dem zulässigen Gesamtgewicht. LKW und Busse haben eine vorgeschriebene Höchstgeschwindigkeit. "
   ]
  },
  {
   "cell_type": "markdown",
   "metadata": {},
   "source": [
    "Motoräder werden dagegen nach Hubraum eingeteilt."
   ]
  },
  {
   "cell_type": "markdown",
   "metadata": {},
   "source": [
    "Als nächstes wird mit der Implementierung der Basisklasse begonnen.\n"
   ]
  },
  {
   "cell_type": "code",
   "execution_count": 17,
   "metadata": {},
   "outputs": [],
   "source": [
    "class Fahrzeug:\n",
    "    def __init__(self,hersteller,farbe,maxv):\n",
    "        self.hersteller = hersteller\n",
    "        self.farbe = farbe\n",
    "        self.maxv = maxv\n",
    "        self.geschwindigkeit = 0\n",
    "        \n",
    "    def fahren(self):\n",
    "        print(f\"Ich fahre {self.geschwindigkeit} km/h\")\n",
    "    \n",
    "    def beschleunigen(self, betrag):\n",
    "        if self.geschwindigkeit + betrag <= self.maxv:\n",
    "            self.geschwindigkeit += betrag\n",
    "        else:\n",
    "            self.geschwindigkeit = maxv\n",
    "            print('Schneller geht nicht')\n",
    "            \n",
    "    def bremsen(self, betrag):\n",
    "        if self.geschwindigkeit - betrag >= 0:\n",
    "            self.geschwindigkeit -= betrag\n",
    "        else:\n",
    "            self.geschwindigkeit = 0\n",
    "            print(\"Alles steht\")"
   ]
  },
  {
   "cell_type": "markdown",
   "metadata": {},
   "source": [
    "Als nächstes wird die Klasse PKW implementiert:"
   ]
  },
  {
   "cell_type": "code",
   "execution_count": 18,
   "metadata": {},
   "outputs": [],
   "source": [
    "class PKW(Fahrzeug):\n",
    "    def __init__(self,hersteller,farbe,maxv,tueren,getriebe, gaenge):\n",
    "        super().__init__(hersteller,farbe,maxv)\n",
    "        self.tueren = tueren\n",
    "        self.getriebe = getriebe\n",
    "        self.gaenge = gaenge\n",
    "     "
   ]
  },
  {
   "cell_type": "markdown",
   "metadata": {},
   "source": [
    "Zum Testen wird eine Instanz von PKW erzeugt."
   ]
  },
  {
   "cell_type": "code",
   "execution_count": 19,
   "metadata": {},
   "outputs": [],
   "source": [
    "honda = PKW(\"Honda\",\"Blau\",140,3,\"Automatik\", 4) "
   ]
  },
  {
   "cell_type": "markdown",
   "metadata": {},
   "source": [
    "Als nächstes greifen wir auf die Methoden der Klasse Fahrzeug zurück, um den Pkw zu beschleunigen."
   ]
  },
  {
   "cell_type": "code",
   "execution_count": 20,
   "metadata": {},
   "outputs": [
    {
     "name": "stdout",
     "output_type": "stream",
     "text": [
      "Ich fahre 25 km/h\n"
     ]
    }
   ],
   "source": [
    "honda.beschleunigen(25)\n",
    "honda.fahren()"
   ]
  },
  {
   "cell_type": "code",
   "execution_count": 21,
   "metadata": {},
   "outputs": [
    {
     "name": "stdout",
     "output_type": "stream",
     "text": [
      "Alles steht\n"
     ]
    }
   ],
   "source": [
    "honda.bremsen(50)"
   ]
  },
  {
   "cell_type": "markdown",
   "metadata": {},
   "source": [
    "## Zugriffsbeschränkungen\n",
    "Bislang sind alle Variablen, die in den Klassen deklariert wurden, öffentlich (public).\n",
    "Das bedeutet auf alle Variablen kann direkt zugegriffen werden.\n",
    "Dadurch können auch Beschränkungen umgangen werden, wie die maximale Geschwindigkeit.\n",
    "Der PKW Honda wurde mit einer maximalen Geschwindigkeit von 140 erzeugt. Die Methode *beschleunigen* erlaubt es nicht, diesen Wert zu überschreiten. Allerdings kann der Wert durch folgenden Code direkt gesetzt werden:"
   ]
  },
  {
   "cell_type": "code",
   "execution_count": 22,
   "metadata": {},
   "outputs": [],
   "source": [
    "honda.geschwindigkeit=150"
   ]
  },
  {
   "cell_type": "markdown",
   "metadata": {},
   "source": [
    "In der objektorientierten Programmierung gibt es deshalb verschiedene Level der Zugriffberechtigung. In der Regel sind dies\n",
    "1. Öffentlich (eng. public)\n",
    "2. Privat (eng. private)\n",
    "3. Geschützt (eng. protected)\n",
    "Öffentliche Attribute können von überall aufgerufen, benutzt oder geändert werden. Auf Private Variablen kann nur aus der eigenen Klasse oder aus abgeleiteten Klassen zugegriffen werden. Geschützte Attribute können ausschließlich durch die eigene Klasse verändert werden. Private Attribute werden durch einen vorangestellten Unterstrich _ gekennzeichnet, geschützte Attribute durch 2 Unterstriche __. "
   ]
  },
  {
   "cell_type": "code",
   "execution_count": 23,
   "metadata": {},
   "outputs": [],
   "source": [
    "class Fahrzeug2:\n",
    "    def __init__(self,hersteller,farbe,maxv):\n",
    "        self.hersteller = hersteller\n",
    "        self.farbe = farbe\n",
    "        self.maxv = maxv\n",
    "        self._geschwindigkeit = 0\n",
    "        \n",
    "    def fahren(self):\n",
    "        print(f\"Ich fahre {self.geschwindigkeit} km/h\")\n",
    "    \n",
    "    def beschleunigen(self, betrag):\n",
    "        if self._geschwindigkeit + betrag <= self.maxv:\n",
    "            self._geschwindigkeit += betrag\n",
    "        else:\n",
    "            self._geschwindigkeit = maxv\n",
    "            print('Schneller geht nicht')\n",
    "            \n",
    "    def bremsen(self, betrag):\n",
    "        if self._geschwindigkeit - betrag >= 0:\n",
    "            self._geschwindigkeit -= betrag\n",
    "        else:\n",
    "            self._geschwindigkeit = 0\n",
    "            print(\"Alles steht\")\n",
    "            \n",
    "    def tacho_anzeigen(self):\n",
    "        print(self._geschwindigkeit)\n",
    "        \n",
    "class PKW2(Fahrzeug2):\n",
    "    \n",
    "    def __init__(self,hersteller,farbe,maxv,tueren,getriebe, gaenge):\n",
    "        super().__init__(hersteller,farbe,maxv)\n",
    "        self.tueren = tueren\n",
    "        self.getriebe = getriebe\n",
    "        self.gaenge = gaenge"
   ]
  },
  {
   "cell_type": "markdown",
   "metadata": {},
   "source": [
    "In der neuen Klasse Fahrzeug2 wurde nur eine Änderung vorgenommen. Aus *geschwindigkeit* wurde *_geschwindigkeit* "
   ]
  },
  {
   "cell_type": "code",
   "execution_count": 24,
   "metadata": {},
   "outputs": [],
   "source": [
    "ford = PKW2(\"Ford\",\"Grün\",210, 5,\"Schaltung\", 5)"
   ]
  },
  {
   "cell_type": "markdown",
   "metadata": {},
   "source": [
    "*ford* ist eine Instanz der neuen Klasse PKW2, die von Fahrzeug2 erbt, ansonsten ist sie identisch mit PKW. \n",
    "Da *_geschwindigkeit* eine private Variable ist, kann nur noch innerhalb von Fahrzeug2 und PKW darauf zugegriffen werden. Der Versuch die Variable direkt zu lesen schlägt deshalb fehl."
   ]
  },
  {
   "cell_type": "code",
   "execution_count": 25,
   "metadata": {},
   "outputs": [
    {
     "ename": "AttributeError",
     "evalue": "'PKW2' object has no attribute 'geschwindigkeit'",
     "output_type": "error",
     "traceback": [
      "\u001b[0;31m---------------------------------------------------------------------------\u001b[0m",
      "\u001b[0;31mAttributeError\u001b[0m                            Traceback (most recent call last)",
      "\u001b[0;32m<ipython-input-25-e56b8582ee4e>\u001b[0m in \u001b[0;36m<module>\u001b[0;34m\u001b[0m\n\u001b[0;32m----> 1\u001b[0;31m \u001b[0mford\u001b[0m\u001b[0;34m.\u001b[0m\u001b[0mgeschwindigkeit\u001b[0m\u001b[0;34m\u001b[0m\u001b[0;34m\u001b[0m\u001b[0m\n\u001b[0m",
      "\u001b[0;31mAttributeError\u001b[0m: 'PKW2' object has no attribute 'geschwindigkeit'"
     ]
    }
   ],
   "source": [
    "ford.geschwindigkeit"
   ]
  },
  {
   "cell_type": "markdown",
   "metadata": {},
   "source": [
    "Es ist aber möglich, die Geschwindigkeit mit Hilfe der neuen Methode *tacho_anzeigen* auszulesen."
   ]
  },
  {
   "cell_type": "code",
   "execution_count": null,
   "metadata": {},
   "outputs": [],
   "source": [
    "ford.tacho_anzeigen()"
   ]
  },
  {
   "cell_type": "markdown",
   "metadata": {},
   "source": [
    "Ebenso funktionieren die Methoden *beschleunigen* und *bremsen* weiterhin."
   ]
  },
  {
   "cell_type": "code",
   "execution_count": null,
   "metadata": {},
   "outputs": [],
   "source": [
    "ford.beschleunigen(45)"
   ]
  },
  {
   "cell_type": "code",
   "execution_count": null,
   "metadata": {},
   "outputs": [],
   "source": [
    "ford.tacho_anzeigen()"
   ]
  },
  {
   "cell_type": "markdown",
   "metadata": {},
   "source": [
    "Die Methoden *bremsen, beschleunigen* und *tacho_anzeigen* sind sogenannte Setter bzw. Getter Methoden. Sie stellen eine öffentliche Schnittstelle zu den nicht öffentlichen Attributen der Klasse her. Zur Verdeutlichung hier noch mal eine Beispielklasse. Die Klasse speichert einen Wert: *\\_property*. Der führende Unterstrich sorgt dafür, dass es eine private Variable der Klasse ist. Von aussen lässt sich der Wert deshalb nicht direkt manipulieren. (Beachte: In Python wird diese Beschränkung nicht erzwungen, es gibt also Möglichkeiten, dies zu umgehen. In andern Sprache wie C++ oder Java wird diese Beschränkung strikt durchgesetzt)\n",
    "Damit dieser Wert trotzdem von anderen Klassen benutzt und verändert werden kann, werden 2 Methoden *set_property* und *get_property* definiert. Get und set sind dabei etablierte Stichworte für solche Funktionen. Das Beispiel Fahrzeug2 zeigt aber, das dies nicht zwingend erforderlich ist."
   ]
  },
  {
   "cell_type": "code",
   "execution_count": 1,
   "metadata": {},
   "outputs": [],
   "source": [
    "class Example:\n",
    "    def __init__(self):\n",
    "        self._prop = \"My Value\"\n",
    "    \n",
    "    def set_property(self,value):\n",
    "        self._prop=value\n",
    "        \n",
    "    def get_prop(self):\n",
    "        return self._property"
   ]
  },
  {
   "cell_type": "markdown",
   "metadata": {},
   "source": [
    "## Der Property Decorator \n",
    "\n"
   ]
  },
  {
   "cell_type": "code",
   "execution_count": 2,
   "metadata": {},
   "outputs": [
    {
     "data": {
      "text/plain": [
       "'My Value'"
      ]
     },
     "execution_count": 2,
     "metadata": {},
     "output_type": "execute_result"
    }
   ],
   "source": [
    "class Example2:\n",
    "    def __init__(self):\n",
    "        self._prop = \"My Value\"\n",
    "    @property    \n",
    "    def prop(self):\n",
    "        return self._prop\n",
    "    \n",
    "    @prop.setter\n",
    "    def prop(self,value):\n",
    "        self._prop=value\n",
    "test=Example2()\n",
    "test.prop"
   ]
  },
  {
   "cell_type": "code",
   "execution_count": 5,
   "metadata": {},
   "outputs": [],
   "source": [
    "test.prop=5"
   ]
  },
  {
   "cell_type": "code",
   "execution_count": 6,
   "metadata": {},
   "outputs": [
    {
     "data": {
      "text/plain": [
       "5"
      ]
     },
     "execution_count": 6,
     "metadata": {},
     "output_type": "execute_result"
    }
   ],
   "source": [
    "test.prop\n"
   ]
  },
  {
   "cell_type": "code",
   "execution_count": null,
   "metadata": {},
   "outputs": [],
   "source": []
  }
 ],
 "metadata": {
  "kernelspec": {
   "display_name": "Python 3.8.1 64-bit",
   "language": "python",
   "name": "python38164bit29a527c548c74452bd3aad048163d915"
  },
  "language_info": {
   "codemirror_mode": {
    "name": "ipython",
    "version": 3
   },
   "file_extension": ".py",
   "mimetype": "text/x-python",
   "name": "python",
   "nbconvert_exporter": "python",
   "pygments_lexer": "ipython3",
   "version": "3.8.1"
  }
 },
 "nbformat": 4,
 "nbformat_minor": 4
}
