{
 "cells": [
  {
   "cell_type": "markdown",
   "metadata": {},
   "source": [
    "# Teil 4"
   ]
  },
  {
   "cell_type": "markdown",
   "metadata": {},
   "source": [
    "## Die Pythonstandardbibliothek und ergänzende Bibliotheken\n",
    "Wenn wir von Python sprechen, müssen wir uns klar machen, was genau wir meinen. Es gibt den Pythoninterpreter, der den Quelltext von menschlicher Sprache in Maschinensprache übersetzt, die dann vom Computer ausgeführt werden. Darüber hinaus gibt es eine Reihen von vorgefertigten Modulen, die Bestandteil der Pythoninstallation sind. Oft wird die gesamte Installation inklusiver dieser Module als Python zusammengefasst. Tatsächlich gibt es mehr als eine Variante von Python (Interpreter und Standardbibliothek). Die Referenzimplementierung ist [CPython](https://www.python.org/), die in C geschrieben ist. Es gibt aber z.B. [Jython](https://www.jython.org/), eine Implementierung in Java."
   ]
  },
  {
   "cell_type": "markdown",
   "metadata": {},
   "source": [
    "**Import**\n",
    "\n",
    "Um auf eine externe Bibliothek (Modul) zuzugreifen, muss es importiert werden, dass heißt es wird dem Quelltext bekannt gemacht. Wichtig: Dabei wird Code in dieser Bibliothek direkt ausgeführt.\n"
   ]
  },
  {
   "cell_type": "code",
   "execution_count": 2,
   "metadata": {},
   "outputs": [
    {
     "name": "stdout",
     "output_type": "stream",
     "text": [
      "The Zen of Python, by Tim Peters\n",
      "\n",
      "Beautiful is better than ugly.\n",
      "Explicit is better than implicit.\n",
      "Simple is better than complex.\n",
      "Complex is better than complicated.\n",
      "Flat is better than nested.\n",
      "Sparse is better than dense.\n",
      "Readability counts.\n",
      "Special cases aren't special enough to break the rules.\n",
      "Although practicality beats purity.\n",
      "Errors should never pass silently.\n",
      "Unless explicitly silenced.\n",
      "In the face of ambiguity, refuse the temptation to guess.\n",
      "There should be one-- and preferably only one --obvious way to do it.\n",
      "Although that way may not be obvious at first unless you're Dutch.\n",
      "Now is better than never.\n",
      "Although never is often better than *right* now.\n",
      "If the implementation is hard to explain, it's a bad idea.\n",
      "If the implementation is easy to explain, it may be a good idea.\n",
      "Namespaces are one honking great idea -- let's do more of those!\n"
     ]
    }
   ],
   "source": [
    "#Beispiel das Modul this\n",
    "import this"
   ]
  },
  {
   "cell_type": "markdown",
   "metadata": {},
   "source": [
    "Es gibt 2 Arten Module zu importieren. \n",
    "import module und from module import function\n",
    "Diese unterscheiden sich darin, wie der Namensraum des Modul eingebunden wird. Benutzt man import modul muss man auf Funktionen und Variablen mit modul.myfunction bzw. modul.myvariable auf die Funktion bzw. die Variable zugreifen. Benutzt man dagegen from modul import myfunction kann man mit myfunction() darauf zugreifen und muss den Modulenamen nicht davor schreiben. Allerdings kann diese Variante zu Problemen führen, wenn es eine Funktion mit dem Namen myfunction im aktuellen Namensraum bereits gibt. "
   ]
  },
  {
   "cell_type": "code",
   "execution_count": 3,
   "metadata": {},
   "outputs": [
    {
     "name": "stdout",
     "output_type": "stream",
     "text": [
      "3.141592653589793\n"
     ]
    }
   ],
   "source": [
    "'''Beispiel: Import der Standardbibliothek math. Die Bibliothek enthält die Variable pi,\n",
    "die den Wert der mathematischen Konstante PI enthält'''\n",
    "import math\n",
    "print(math.pi)"
   ]
  },
  {
   "cell_type": "code",
   "execution_count": 4,
   "metadata": {},
   "outputs": [
    {
     "name": "stdout",
     "output_type": "stream",
     "text": [
      "3.141592653589793\n"
     ]
    }
   ],
   "source": [
    "from math import pi\n",
    "print(pi)"
   ]
  },
  {
   "cell_type": "markdown",
   "metadata": {},
   "source": [
    "Um herauszufinden, was in einem Modul enthalten ist, gibt es den Befehl dir"
   ]
  },
  {
   "cell_type": "code",
   "execution_count": 5,
   "metadata": {},
   "outputs": [
    {
     "data": {
      "text/plain": [
       "['__doc__',\n",
       " '__file__',\n",
       " '__loader__',\n",
       " '__name__',\n",
       " '__package__',\n",
       " '__spec__',\n",
       " 'acos',\n",
       " 'acosh',\n",
       " 'asin',\n",
       " 'asinh',\n",
       " 'atan',\n",
       " 'atan2',\n",
       " 'atanh',\n",
       " 'ceil',\n",
       " 'comb',\n",
       " 'copysign',\n",
       " 'cos',\n",
       " 'cosh',\n",
       " 'degrees',\n",
       " 'dist',\n",
       " 'e',\n",
       " 'erf',\n",
       " 'erfc',\n",
       " 'exp',\n",
       " 'expm1',\n",
       " 'fabs',\n",
       " 'factorial',\n",
       " 'floor',\n",
       " 'fmod',\n",
       " 'frexp',\n",
       " 'fsum',\n",
       " 'gamma',\n",
       " 'gcd',\n",
       " 'hypot',\n",
       " 'inf',\n",
       " 'isclose',\n",
       " 'isfinite',\n",
       " 'isinf',\n",
       " 'isnan',\n",
       " 'isqrt',\n",
       " 'ldexp',\n",
       " 'lgamma',\n",
       " 'log',\n",
       " 'log10',\n",
       " 'log1p',\n",
       " 'log2',\n",
       " 'modf',\n",
       " 'nan',\n",
       " 'perm',\n",
       " 'pi',\n",
       " 'pow',\n",
       " 'prod',\n",
       " 'radians',\n",
       " 'remainder',\n",
       " 'sin',\n",
       " 'sinh',\n",
       " 'sqrt',\n",
       " 'tan',\n",
       " 'tanh',\n",
       " 'tau',\n",
       " 'trunc']"
      ]
     },
     "execution_count": 5,
     "metadata": {},
     "output_type": "execute_result"
    }
   ],
   "source": [
    "dir(math)"
   ]
  },
  {
   "cell_type": "markdown",
   "metadata": {},
   "source": [
    "Man kann mehrer Module mit einem Befehl importieren"
   ]
  },
  {
   "cell_type": "code",
   "execution_count": 6,
   "metadata": {},
   "outputs": [],
   "source": [
    "#Beispiel Importieren von sys und os\n",
    "import sys,os"
   ]
  },
  {
   "cell_type": "markdown",
   "metadata": {},
   "source": [
    "Es ist auch möglich, alle Funktionen eines Moduls auf einmal in den eigenen Namensraum zu übernehmen. Allerdings wird diese Vorgehensweise nicht empfohlen, insbesondere bei unbekannten Modulen. "
   ]
  },
  {
   "cell_type": "code",
   "execution_count": 7,
   "metadata": {},
   "outputs": [],
   "source": [
    "from math import *"
   ]
  },
  {
   "cell_type": "code",
   "execution_count": 8,
   "metadata": {},
   "outputs": [
    {
     "data": {
      "text/plain": [
       "['__call__',\n",
       " '__class__',\n",
       " '__delattr__',\n",
       " '__dir__',\n",
       " '__doc__',\n",
       " '__eq__',\n",
       " '__format__',\n",
       " '__ge__',\n",
       " '__getattribute__',\n",
       " '__gt__',\n",
       " '__hash__',\n",
       " '__init__',\n",
       " '__init_subclass__',\n",
       " '__le__',\n",
       " '__lt__',\n",
       " '__module__',\n",
       " '__name__',\n",
       " '__ne__',\n",
       " '__new__',\n",
       " '__qualname__',\n",
       " '__reduce__',\n",
       " '__reduce_ex__',\n",
       " '__repr__',\n",
       " '__self__',\n",
       " '__setattr__',\n",
       " '__sizeof__',\n",
       " '__str__',\n",
       " '__subclasshook__',\n",
       " '__text_signature__']"
      ]
     },
     "execution_count": 8,
     "metadata": {},
     "output_type": "execute_result"
    }
   ],
   "source": [
    "dir(acos)"
   ]
  },
  {
   "cell_type": "markdown",
   "metadata": {},
   "source": [
    "Oftmals sind lange Modulnamen unbequem, wenn sie oft geschrieben werden müssen. Deshalb gibt es die Möglichkeit einen Alias beim import zu vergeben:"
   ]
  },
  {
   "cell_type": "code",
   "execution_count": 10,
   "metadata": {},
   "outputs": [
    {
     "name": "stdout",
     "output_type": "stream",
     "text": [
      "3.141592653589793\n"
     ]
    }
   ],
   "source": [
    "#Beispiel \n",
    "import math as m\n",
    "print(m.pi)"
   ]
  },
  {
   "cell_type": "code",
   "execution_count": 2,
   "metadata": {},
   "outputs": [
    {
     "name": "stdout",
     "output_type": "stream",
     "text": [
      "\n",
      "Please wait a moment while I gather a list of all available modules...\n",
      "\n"
     ]
    },
    {
     "name": "stderr",
     "output_type": "stream",
     "text": [
      "/home/mkg/Software/Python381/lib/python3.8/site-packages/IPython/kernel/__init__.py:12: ShimWarning: The `IPython.kernel` package has been deprecated since IPython 4.0.You should import from ipykernel or jupyter_client instead.\n",
      "  warn(\"The `IPython.kernel` package has been deprecated since IPython 4.0.\"\n",
      "Using TensorFlow backend.\n",
      "/home/mkg/Software/Python381/lib/python3.8/site-packages/shiboken2/files.dir/shibokensupport/__feature__.py:146: FutureWarning:\n",
      "\n",
      "pandas.util.testing is deprecated. Use the functions in the public API at pandas.testing instead.\n",
      "\n"
     ]
    },
    {
     "name": "stdout",
     "output_type": "stream",
     "text": [
      "pygame 2.0.0 (SDL 2.0.12, python 3.8.1)\n",
      "Hello from the pygame community. https://www.pygame.org/contribute.html\n",
      "This is a broken recipe, not a real one!\n"
     ]
    },
    {
     "name": "stderr",
     "output_type": "stream",
     "text": [
      "/home/mkg/Software/Python381/lib/python3.8/site-packages/sklearn/externals/joblib/__init__.py:15: FutureWarning:\n",
      "\n",
      "sklearn.externals.joblib is deprecated in 0.21 and will be removed in 0.23. Please import this functionality directly from joblib, which can be installed with: pip install joblib. If this warning is raised when loading pickled models, you may need to re-serialize those models with scikit-learn 0.21+.\n",
      "\n",
      "/home/mkg/Software/Python381/lib/python3.8/pkgutil.py:107: VisibleDeprecationWarning:\n",
      "\n",
      "zmq.eventloop.minitornado is deprecated in pyzmq 14.0 and will be removed.\n",
      "    Install tornado itself to use zmq with the tornado IOLoop.\n",
      "    \n",
      "\n"
     ]
    },
    {
     "name": "stdout",
     "output_type": "stream",
     "text": [
      "IPython             brain_dataclasses   idna                pythonforandroid\n",
      "PIL                 brain_dateutil      image               pytoml\n",
      "PyInstaller         brain_fstrings      imageio             pyttsx3\n",
      "PyPDF2              brain_functools     imageio_ffmpeg      pytz\n",
      "PyQt5               brain_gi            imagesize           pyunpack\n",
      "PySide2             brain_hashlib       imaplib             qtconsole\n",
      "__future__          brain_http          imghdr              queue\n",
      "_abc                brain_io            imp                 quopri\n",
      "_ast                brain_mechanize     importlib           random\n",
      "_asyncio            brain_multiprocessing importlib_metadata  re\n",
      "_bisect             brain_namedtuple_enum inspect             readline\n",
      "_blake2             brain_nose          io                  reprlib\n",
      "_bootlocale         brain_numpy_core_fromnumeric ipaddress           requests\n",
      "_bz2                brain_numpy_core_function_base ipdb                resource\n",
      "_cffi_backend       brain_numpy_core_multiarray ipykernel           retrying\n",
      "_codecs             brain_numpy_core_numeric ipykernel_launcher  rlcompleter\n",
      "_codecs_cn          brain_numpy_core_numerictypes ipython_genutils    rmagic\n",
      "_codecs_hk          brain_numpy_core_umath ipywidgets          rope\n",
      "_codecs_iso2022     brain_numpy_ndarray isort               runpy\n",
      "_codecs_jp          brain_numpy_random_mtrand isympy              sched\n",
      "_codecs_kr          brain_numpy_utils   itertools           scipy\n",
      "_codecs_tw          brain_pkg_resources itsdangerous        seaborn\n",
      "_collections        brain_pytest        jedi                secrets\n",
      "_collections_abc    brain_qt            jinja2              select\n",
      "_compat_pickle      brain_random        joblib              selectors\n",
      "_compression        brain_re            json                selenium\n",
      "_contextvars        brain_responses     jsonschema          send2trash\n",
      "_crypt              brain_scipy_signal  jupyter             setuptools\n",
      "_csv                brain_six           jupyter_client      sh\n",
      "_ctypes             brain_ssl           jupyter_console     shelve\n",
      "_ctypes_test        brain_subprocess    jupyter_core        shiboken2\n",
      "_curses             brain_threading     keras               shlex\n",
      "_curses_panel       brain_typing        keras_applications  shutil\n",
      "_datetime           brain_uuid          keras_preprocessing signal\n",
      "_dbm                branca              keyword             simpleaudio\n",
      "_decimal            bs4                 kiwisolver          site\n",
      "_dummy_thread       builtins            lazy_object_proxy   six\n",
      "_elementtree        bz2                 lib2to3             sklearn\n",
      "_functools          cProfile            libfuturize         smtpd\n",
      "_gdbm               calendar            libpasteurize       smtplib\n",
      "_hashlib            certifi             linecache           sndhdr\n",
      "_heapq              cffi                locale              snowballstemmer\n",
      "_imp                cgi                 logging             socket\n",
      "_io                 cgitb               lxml                socketserver\n",
      "_json               chardet             lzma                soupsieve\n",
      "_locale             chunk               mailbox             sphinx\n",
      "_lsprof             ci                  mailcap             sphinxcontrib\n",
      "_lzma               click               markupsafe          spwd\n",
      "_markupbase         cmath               marshal             sqlalchemy\n",
      "_md5                cmd                 math                sqlite3\n",
      "_multibytecodec     code                matplotlib          sqlparse\n",
      "_multiprocessing    codecs              mccabe              sre_compile\n",
      "_opcode             codeop              mimetypes           sre_constants\n",
      "_operator           collections         mistune             sre_parse\n",
      "_osx_support        colorama            mmap                ssl\n",
      "_patool_configdata  colormath           modulefinder        stat\n",
      "_pickle             colorsys            more_itertools      statistics\n",
      "_plotly_future_     compileall          moviepy             statsmodels\n",
      "_plotly_utils       concurrent          mpmath              storemagic\n",
      "_posixshmem         configparser        multidict           string\n",
      "_posixsubprocess    contextlib          multiprocessing     stringprep\n",
      "_py_abc             contextvars         nbconvert           struct\n",
      "_pydecimal          copy                nbformat            subprocess\n",
      "_pyio               copyreg             netrc               sunau\n",
      "_pyrsistent_version crypt               networkx            symbol\n",
      "_pytest             cryptography        nis                 sympy\n",
      "_queue              csv                 nntplib             sympyprinting\n",
      "_random             ctypes              notebook            symtable\n",
      "_sha1               curses              ntpath              sys\n",
      "_sha256             cycler              nturl2path          sysconfig\n",
      "_sha3               cythonmagic         numbers             syslog\n",
      "_sha512             dash                numpy               tabnanny\n",
      "_signal             dash_core_components opcode              tarfile\n",
      "_sitebuiltins       dash_html_components operator            telnetlib\n",
      "_socket             dash_renderer       optparse            tempfile\n",
      "_sqlite3            dash_table          os                  terminado\n",
      "_sre                dataclasses         ossaudiodev         termios\n",
      "_ssl                datetime            packaging           test\n",
      "_stat               dateutil            pandas              testpath\n",
      "_statistics         dbm                 pandas_datareader   tests\n",
      "_string             decimal             pandocfilters       textwrap\n",
      "_strptime           decorator           parser              this\n",
      "_struct             defusedxml          parso               threading\n",
      "_symtable           diagrams            past                time\n",
      "_sysconfigdata__linux_x86_64-linux-gnu difflib             pathlib             timeit\n",
      "_testbuffer         dis                 patoolib            tkinter\n",
      "_testcapi           discord             patsy               token\n",
      "_testimportmultiple distlib             pdb                 tokenize\n",
      "_testinternalcapi   distutils           pep517              toml\n",
      "_testmultiphase     django              pexpect             tornado\n",
      "_thread             docs                pickle              tqdm\n",
      "_threading_local    doctest             pickleshare         trace\n",
      "_tkinter            docutils            pickletools         traceback\n",
      "_tracemalloc        dotenv              pip                 tracemalloc\n",
      "_uuid               dummy_threading     pipes               traitlets\n",
      "_warnings           easy_install        pkg_resources       tty\n",
      "_weakref            easyprocess         pkgutil             turtle\n",
      "_weakrefset         email               platform            turtledemo\n",
      "_xxsubinterpreters  encodings           plistlib            types\n",
      "_xxtestfuzz         ensurepip           plotly              typing\n",
      "abc                 entrypoint2         plotlywidget        ujson\n",
      "aifc                entrypoints         pluggy              unicodedata\n",
      "aiohttp             enum                poplib              unittest\n",
      "alabaster           errno               posix               urllib\n",
      "altgraph            faulthandler        posixpath           urllib3\n",
      "antigravity         fcntl               pprint              uu\n",
      "appdirs             ffmpeg              profile             uuid\n",
      "argparse            filecmp             proglog             venv\n",
      "array               fileinput           prometheus_client   virtualenv\n",
      "asgiref             filelock            prompt_toolkit      warnings\n",
      "ast                 flake8              pstats              wave\n",
      "astroid             flask               psutil              wcwidth\n",
      "async_timeout       flask_compress      pty                 weakref\n",
      "asynchat            flask_sqlalchemy    ptyprocess          webbrowser\n",
      "asyncio             fnmatch             pvectorc            webencodings\n",
      "asyncore            folium              pwd                 websockets\n",
      "atexit              formatter           py                  werkzeug\n",
      "attr                fractions           py_compile          widgetsnbextension\n",
      "attrdict            ftplib              pyclbr              wrapt\n",
      "audioop             functools           pycodestyle         wsgiref\n",
      "autopep8            future              pycparser           xdrlib\n",
      "autoreload          gc                  pydoc               xml\n",
      "babel               genericpath         pydoc_data          xmlrpc\n",
      "backcall            getopt              pydocstyle          xxlimited\n",
      "base64              getpass             pydub               xxsubtype\n",
      "bdb                 gettext             pyexpat             yaml\n",
      "binascii            glob                pyflakes            yapf\n",
      "binhex              graphviz            pygame              yapftests\n",
      "bisect              grp                 pygments            yarl\n",
      "bleach              gunicorn            pylab               zipapp\n",
      "bokeh               gzip                pylint              zipfile\n",
      "brain_argparse      h5py                pyls                zipimport\n",
      "brain_attrs         hashlib             pyls_jsonrpc        zipp\n",
      "brain_boto3         heapq               pyparsing           zlib\n",
      "brain_builtin_inference hmac                pyqsar              zmq\n",
      "brain_collections   html                pyqtdeploy          \n",
      "brain_crypt         http                pyrsistent          \n",
      "brain_curses        idlelib             pytest              \n",
      "\n",
      "Enter any module name to get more help.  Or, type \"modules spam\" to search\n",
      "for modules whose name or summary contain the string \"spam\".\n",
      "\n"
     ]
    }
   ],
   "source": [
    "help('modules')"
   ]
  },
  {
   "cell_type": "code",
   "execution_count": null,
   "metadata": {},
   "outputs": [],
   "source": []
  }
 ],
 "metadata": {
  "kernelspec": {
   "display_name": "Python 3",
   "language": "python",
   "name": "python3"
  },
  "language_info": {
   "codemirror_mode": {
    "name": "ipython",
    "version": 3
   },
   "file_extension": ".py",
   "mimetype": "text/x-python",
   "name": "python",
   "nbconvert_exporter": "python",
   "pygments_lexer": "ipython3",
   "version": "3.8.1"
  }
 },
 "nbformat": 4,
 "nbformat_minor": 4
}
