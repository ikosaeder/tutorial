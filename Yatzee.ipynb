{
 "cells": [
  {
   "cell_type": "code",
   "execution_count": 5,
   "metadata": {},
   "outputs": [],
   "source": [
    "import math\n",
    "import random\n",
    "class Wuerfel():\n",
    "    def __init__(self,n):\n",
    "        self.sides=n\n",
    "        self.history=[]\n",
    "        self.roll()\n",
    "        \n",
    "    def roll(self):\n",
    "        value = random.randint(1,self.sides)\n",
    "        self.history.append(value)\n",
    "    \n",
    "    def average(self):\n",
    "        return sum(self.history)/len(self.history)\n",
    "    \n",
    "    def max_roll(self):\n",
    "        return max(self.history)\n",
    "    \n",
    "    def min_roll(self):\n",
    "        return min(self.history)\n",
    "    \n",
    "    def expected_avg(self):\n",
    "        return (1+n)/2\n",
    "    \n",
    "    def value(self):\n",
    "        return self.history[-1]"
   ]
  },
  {
   "cell_type": "code",
   "execution_count": 6,
   "metadata": {},
   "outputs": [],
   "source": [
    "d6=Wuerfel(6)"
   ]
  },
  {
   "cell_type": "code",
   "execution_count": 77,
   "metadata": {},
   "outputs": [
    {
     "data": {
      "text/plain": [
       "1"
      ]
     },
     "execution_count": 77,
     "metadata": {},
     "output_type": "execute_result"
    }
   ],
   "source": [
    "d6.value()\n"
   ]
  },
  {
   "cell_type": "code",
   "execution_count": 176,
   "metadata": {},
   "outputs": [],
   "source": [
    "from collections import Counter\n",
    "\n",
    "def score_number(dice,n):\n",
    "    return sum([x for x in dice if x == n  ])\n",
    "\n",
    "def score_full_house(dice):\n",
    "    count=Counter(dice)\n",
    "    #print(count.values())\n",
    "    if 2 in count.values() and 3 in count.values():\n",
    "        return 25\n",
    "    else:\n",
    "        return 0\n",
    "\n",
    "def score_kniffle(dice):\n",
    "    count=Counter(dice)\n",
    "    if 5 in count.values():\n",
    "        return 50\n",
    "    else:\n",
    "        return 0\n",
    "    \n",
    "def score_dreier_pasch(dice):\n",
    "    count=Counter(dice)\n",
    "    if 3 in count.values():\n",
    "        return sum(dice)\n",
    "    else:\n",
    "        return 0\n",
    "    \n",
    "def score_vierer_pasch(dice):\n",
    "    count=Counter(dice)\n",
    "    if 4 in count.values():\n",
    "        return sum(dice)\n",
    "    else:\n",
    "        return 0\n",
    "\n",
    "def score_chance(dice):\n",
    "    return(sum(dice))\n",
    "\n",
    "def score_grosse_strasse(dice):\n",
    "    if len(set(dice))==5:\n",
    "        return 40\n",
    "    else:\n",
    "        return 0\n",
    "    \n",
    "def score_kleine_strasse(dice):\n",
    "    possibles=[[1,2,3,4],[2,3,4,5],[3,4,5,6]]\n",
    "    for i in possibles:\n",
    "        check=all(x in sorted(dice) for x in i )\n",
    "        if check: break\n",
    "    if check:\n",
    "        return 30\n",
    "    else:\n",
    "        return 0\n"
   ]
  },
  {
   "cell_type": "code",
   "execution_count": 105,
   "metadata": {},
   "outputs": [],
   "source": [
    "class Player():\n",
    "    def __init__(self,name):\n",
    "        self.name = name\n",
    "        self.score_total = 0\n",
    "        self.dice = []\n",
    "        self.fixed_dice = []\n",
    "        self.score_card_top={\"Einer\":-1,\"Zweier\":-1,\"Dreier\":-1,\"Vierer\":-1,\"Fünfer\":-1,\"Sechser\":-1}\n",
    "        self.score_card_bottom={\"Dreierpasch\":-1,\"Viererpasch\":-1,\"Full House\":-1,\"Kleine Straße\":-1,\n",
    "                                \"Große Straße\":-1,\"Kniffel\":-1,\"Chance\":-1}\n",
    "        self.bonus=0\n",
    "        \n",
    "    def new_round(self):\n",
    "        for i in range(5):\n",
    "            self.dice.append(Wuerfel(6))\n",
    "            \n",
    "    def roll(self):\n",
    "        for d in self.dice:\n",
    "            d.roll()\n",
    "            \n",
    "    def print_dice(self, dice_list):\n",
    "        for i,d in enumerate(dice_list):\n",
    "            print(f'{i+1}: {d.value()}')\n",
    "            \n",
    "    def fix_roll(self,die):\n",
    "        try:\n",
    "            self.fixed_dice.append(self.dice.pop(die))\n",
    "        except IndexError:\n",
    "            print('Den Würfel gibt es nicht')\n",
    "            return\n",
    "            \n",
    "    def score_top(self):\n",
    "        top = [x if x != -1 else 0 for x in self.score_card_top.values()]\n",
    "        if top > 63:\n",
    "            self.bonus=35\n",
    "        return sum(top)\n",
    "    \n",
    "    def score_bottom(self):\n",
    "        bot = [x if x != -1 else 0 for x in self.score_card_bot.values()]\n",
    "        return sum(bot)\n",
    "    \n",
    "    def final_score(self):\n",
    "        self.score_total=score_bottom() + score_top() + self.bonus\n",
    "        return self.score_total\n",
    "    \n",
    "    "
   ]
  },
  {
   "cell_type": "code",
   "execution_count": 106,
   "metadata": {},
   "outputs": [],
   "source": [
    "class Kniffel():\n",
    "    def __init__(self):\n",
    "        self.players=[]\n",
    "        self.rounds=12\n",
    "        self.num_players=int(input(\"Wieviele Spieler?: \"))\n",
    "        for i in range(self.num_players):\n",
    "            name = input(f\"Spieler {i+1}: \")\n",
    "            self.players.append(Player(name))\n",
    "        self.game_loop()\n",
    "    def game_loop(self):\n",
    "        for i in range(self.rounds):\n",
    "            for player in self.players:\n",
    "                player.new_round()\n",
    "                print(f'{player.name} ist dran.')\n",
    "                for round in range(3):\n",
    "                    print(f'Wurf {round+1}: ')\n",
    "                    print(f'{player.name} wuerfelt:')\n",
    "                    player.roll()\n",
    "                    player.print_dice(player.dice)\n",
    "                    while True:\n",
    "                        fix=int(input(\"Welchen Würfel möchtest du behalten? 0 für weiter \"))\n",
    "                        if fix == 0:\n",
    "                            break\n",
    "                        player.fix_roll(fix-1)\n",
    "                        player.print_dice(player.dice)\n",
    "                print(f' Du hast bis jetzt zurück gelegt')\n",
    "                player.print_dice(player.fixed_dice)\n",
    "                print(f'Welche Wertung möchtest du benutzen?')\n"
   ]
  },
  {
   "cell_type": "code",
   "execution_count": 76,
   "metadata": {},
   "outputs": [
    {
     "name": "stdout",
     "output_type": "stream",
     "text": [
      "Wieviele Spieler?: 1\n",
      "Spieler 1: adf\n",
      "adf ist dran.\n",
      "Wurf 1: \n",
      "adf wuerfelt:\n",
      "1: 4\n",
      "2: 5\n",
      "3: 3\n",
      "4: 4\n",
      "5: 1\n",
      "Welchen Würfel möchtest du behalten? 0 für weiter 1\n",
      "1: 5\n",
      "2: 3\n",
      "3: 4\n",
      "4: 1\n",
      "Welchen Würfel möchtest du behalten? 0 für weiter 3\n",
      "1: 5\n",
      "2: 3\n",
      "3: 1\n",
      "Welchen Würfel möchtest du behalten? 0 für weiter 0\n",
      "Wurf 2: \n",
      "adf wuerfelt:\n",
      "1: 1\n",
      "2: 5\n",
      "3: 1\n",
      "Welchen Würfel möchtest du behalten? 0 für weiter 1\n",
      "1: 5\n",
      "2: 1\n",
      "Welchen Würfel möchtest du behalten? 0 für weiter 2\n",
      "1: 5\n",
      "Welchen Würfel möchtest du behalten? 0 für weiter 0\n",
      "Wurf 3: \n",
      "adf wuerfelt:\n",
      "1: 4\n",
      "Welchen Würfel möchtest du behalten? 0 für weiter 1\n",
      "Welchen Würfel möchtest du behalten? 0 für weiter 0\n",
      " Du hast bis jetzt zurück gelegt\n",
      "1: 4\n",
      "2: 4\n",
      "3: 1\n",
      "4: 1\n",
      "5: 4\n",
      "Welche Wertung möchtest du benutzen?\n",
      "adf ist dran.\n",
      "Wurf 1: \n",
      "adf wuerfelt:\n",
      "1: 2\n",
      "2: 6\n",
      "3: 3\n",
      "4: 5\n",
      "5: 5\n"
     ]
    },
    {
     "ename": "KeyboardInterrupt",
     "evalue": "",
     "output_type": "error",
     "traceback": [
      "\u001b[0;31m---------------------------------------------------------------------------\u001b[0m",
      "\u001b[0;31mKeyboardInterrupt\u001b[0m                         Traceback (most recent call last)",
      "\u001b[0;32m~/Software/Python381/lib/python3.8/site-packages/ipykernel/kernelbase.py\u001b[0m in \u001b[0;36m_input_request\u001b[0;34m(self, prompt, ident, parent, password)\u001b[0m\n\u001b[1;32m    883\u001b[0m             \u001b[0;32mtry\u001b[0m\u001b[0;34m:\u001b[0m\u001b[0;34m\u001b[0m\u001b[0;34m\u001b[0m\u001b[0m\n\u001b[0;32m--> 884\u001b[0;31m                 \u001b[0mident\u001b[0m\u001b[0;34m,\u001b[0m \u001b[0mreply\u001b[0m \u001b[0;34m=\u001b[0m \u001b[0mself\u001b[0m\u001b[0;34m.\u001b[0m\u001b[0msession\u001b[0m\u001b[0;34m.\u001b[0m\u001b[0mrecv\u001b[0m\u001b[0;34m(\u001b[0m\u001b[0mself\u001b[0m\u001b[0;34m.\u001b[0m\u001b[0mstdin_socket\u001b[0m\u001b[0;34m,\u001b[0m \u001b[0;36m0\u001b[0m\u001b[0;34m)\u001b[0m\u001b[0;34m\u001b[0m\u001b[0;34m\u001b[0m\u001b[0m\n\u001b[0m\u001b[1;32m    885\u001b[0m             \u001b[0;32mexcept\u001b[0m \u001b[0mException\u001b[0m\u001b[0;34m:\u001b[0m\u001b[0;34m\u001b[0m\u001b[0;34m\u001b[0m\u001b[0m\n",
      "\u001b[0;32m~/Software/Python381/lib/python3.8/site-packages/jupyter_client/session.py\u001b[0m in \u001b[0;36mrecv\u001b[0;34m(self, socket, mode, content, copy)\u001b[0m\n\u001b[1;32m    802\u001b[0m         \u001b[0;32mtry\u001b[0m\u001b[0;34m:\u001b[0m\u001b[0;34m\u001b[0m\u001b[0;34m\u001b[0m\u001b[0m\n\u001b[0;32m--> 803\u001b[0;31m             \u001b[0mmsg_list\u001b[0m \u001b[0;34m=\u001b[0m \u001b[0msocket\u001b[0m\u001b[0;34m.\u001b[0m\u001b[0mrecv_multipart\u001b[0m\u001b[0;34m(\u001b[0m\u001b[0mmode\u001b[0m\u001b[0;34m,\u001b[0m \u001b[0mcopy\u001b[0m\u001b[0;34m=\u001b[0m\u001b[0mcopy\u001b[0m\u001b[0;34m)\u001b[0m\u001b[0;34m\u001b[0m\u001b[0;34m\u001b[0m\u001b[0m\n\u001b[0m\u001b[1;32m    804\u001b[0m         \u001b[0;32mexcept\u001b[0m \u001b[0mzmq\u001b[0m\u001b[0;34m.\u001b[0m\u001b[0mZMQError\u001b[0m \u001b[0;32mas\u001b[0m \u001b[0me\u001b[0m\u001b[0;34m:\u001b[0m\u001b[0;34m\u001b[0m\u001b[0;34m\u001b[0m\u001b[0m\n",
      "\u001b[0;32m~/Software/Python381/lib/python3.8/site-packages/zmq/sugar/socket.py\u001b[0m in \u001b[0;36mrecv_multipart\u001b[0;34m(self, flags, copy, track)\u001b[0m\n\u001b[1;32m    474\u001b[0m         \"\"\"\n\u001b[0;32m--> 475\u001b[0;31m         \u001b[0mparts\u001b[0m \u001b[0;34m=\u001b[0m \u001b[0;34m[\u001b[0m\u001b[0mself\u001b[0m\u001b[0;34m.\u001b[0m\u001b[0mrecv\u001b[0m\u001b[0;34m(\u001b[0m\u001b[0mflags\u001b[0m\u001b[0;34m,\u001b[0m \u001b[0mcopy\u001b[0m\u001b[0;34m=\u001b[0m\u001b[0mcopy\u001b[0m\u001b[0;34m,\u001b[0m \u001b[0mtrack\u001b[0m\u001b[0;34m=\u001b[0m\u001b[0mtrack\u001b[0m\u001b[0;34m)\u001b[0m\u001b[0;34m]\u001b[0m\u001b[0;34m\u001b[0m\u001b[0;34m\u001b[0m\u001b[0m\n\u001b[0m\u001b[1;32m    476\u001b[0m         \u001b[0;31m# have first part already, only loop while more to receive\u001b[0m\u001b[0;34m\u001b[0m\u001b[0;34m\u001b[0m\u001b[0;34m\u001b[0m\u001b[0m\n",
      "\u001b[0;32mzmq/backend/cython/socket.pyx\u001b[0m in \u001b[0;36mzmq.backend.cython.socket.Socket.recv\u001b[0;34m()\u001b[0m\n",
      "\u001b[0;32mzmq/backend/cython/socket.pyx\u001b[0m in \u001b[0;36mzmq.backend.cython.socket.Socket.recv\u001b[0;34m()\u001b[0m\n",
      "\u001b[0;32mzmq/backend/cython/socket.pyx\u001b[0m in \u001b[0;36mzmq.backend.cython.socket._recv_copy\u001b[0;34m()\u001b[0m\n",
      "\u001b[0;32m~/Software/Python381/lib/python3.8/site-packages/zmq/backend/cython/checkrc.pxd\u001b[0m in \u001b[0;36mzmq.backend.cython.checkrc._check_rc\u001b[0;34m()\u001b[0m\n",
      "\u001b[0;31mKeyboardInterrupt\u001b[0m: ",
      "\nDuring handling of the above exception, another exception occurred:\n",
      "\u001b[0;31mKeyboardInterrupt\u001b[0m                         Traceback (most recent call last)",
      "\u001b[0;32m<ipython-input-76-51f64426d8a6>\u001b[0m in \u001b[0;36m<module>\u001b[0;34m\u001b[0m\n\u001b[0;32m----> 1\u001b[0;31m \u001b[0mkniffel\u001b[0m\u001b[0;34m=\u001b[0m\u001b[0mKniffel\u001b[0m\u001b[0;34m(\u001b[0m\u001b[0;34m)\u001b[0m\u001b[0;34m\u001b[0m\u001b[0;34m\u001b[0m\u001b[0m\n\u001b[0m",
      "\u001b[0;32m<ipython-input-75-13e1127bc9c5>\u001b[0m in \u001b[0;36m__init__\u001b[0;34m(self)\u001b[0m\n\u001b[1;32m      7\u001b[0m             \u001b[0mname\u001b[0m \u001b[0;34m=\u001b[0m \u001b[0minput\u001b[0m\u001b[0;34m(\u001b[0m\u001b[0;34mf\"Spieler {i+1}: \"\u001b[0m\u001b[0;34m)\u001b[0m\u001b[0;34m\u001b[0m\u001b[0;34m\u001b[0m\u001b[0m\n\u001b[1;32m      8\u001b[0m             \u001b[0mself\u001b[0m\u001b[0;34m.\u001b[0m\u001b[0mplayers\u001b[0m\u001b[0;34m.\u001b[0m\u001b[0mappend\u001b[0m\u001b[0;34m(\u001b[0m\u001b[0mPlayer\u001b[0m\u001b[0;34m(\u001b[0m\u001b[0mname\u001b[0m\u001b[0;34m)\u001b[0m\u001b[0;34m)\u001b[0m\u001b[0;34m\u001b[0m\u001b[0;34m\u001b[0m\u001b[0m\n\u001b[0;32m----> 9\u001b[0;31m         \u001b[0mself\u001b[0m\u001b[0;34m.\u001b[0m\u001b[0mgame_loop\u001b[0m\u001b[0;34m(\u001b[0m\u001b[0;34m)\u001b[0m\u001b[0;34m\u001b[0m\u001b[0;34m\u001b[0m\u001b[0m\n\u001b[0m\u001b[1;32m     10\u001b[0m     \u001b[0;32mdef\u001b[0m \u001b[0mgame_loop\u001b[0m\u001b[0;34m(\u001b[0m\u001b[0mself\u001b[0m\u001b[0;34m)\u001b[0m\u001b[0;34m:\u001b[0m\u001b[0;34m\u001b[0m\u001b[0;34m\u001b[0m\u001b[0m\n\u001b[1;32m     11\u001b[0m         \u001b[0;32mfor\u001b[0m \u001b[0mi\u001b[0m \u001b[0;32min\u001b[0m \u001b[0mrange\u001b[0m\u001b[0;34m(\u001b[0m\u001b[0mself\u001b[0m\u001b[0;34m.\u001b[0m\u001b[0mrounds\u001b[0m\u001b[0;34m)\u001b[0m\u001b[0;34m:\u001b[0m\u001b[0;34m\u001b[0m\u001b[0;34m\u001b[0m\u001b[0m\n",
      "\u001b[0;32m<ipython-input-75-13e1127bc9c5>\u001b[0m in \u001b[0;36mgame_loop\u001b[0;34m(self)\u001b[0m\n\u001b[1;32m     19\u001b[0m                     \u001b[0mplayer\u001b[0m\u001b[0;34m.\u001b[0m\u001b[0mprint_dice\u001b[0m\u001b[0;34m(\u001b[0m\u001b[0mplayer\u001b[0m\u001b[0;34m.\u001b[0m\u001b[0mdice\u001b[0m\u001b[0;34m)\u001b[0m\u001b[0;34m\u001b[0m\u001b[0;34m\u001b[0m\u001b[0m\n\u001b[1;32m     20\u001b[0m                     \u001b[0;32mwhile\u001b[0m \u001b[0;32mTrue\u001b[0m\u001b[0;34m:\u001b[0m\u001b[0;34m\u001b[0m\u001b[0;34m\u001b[0m\u001b[0m\n\u001b[0;32m---> 21\u001b[0;31m                         \u001b[0mfix\u001b[0m\u001b[0;34m=\u001b[0m\u001b[0mint\u001b[0m\u001b[0;34m(\u001b[0m\u001b[0minput\u001b[0m\u001b[0;34m(\u001b[0m\u001b[0;34m\"Welchen Würfel möchtest du behalten? 0 für weiter \"\u001b[0m\u001b[0;34m)\u001b[0m\u001b[0;34m)\u001b[0m\u001b[0;34m\u001b[0m\u001b[0;34m\u001b[0m\u001b[0m\n\u001b[0m\u001b[1;32m     22\u001b[0m                         \u001b[0;32mif\u001b[0m \u001b[0mfix\u001b[0m \u001b[0;34m==\u001b[0m \u001b[0;36m0\u001b[0m\u001b[0;34m:\u001b[0m\u001b[0;34m\u001b[0m\u001b[0;34m\u001b[0m\u001b[0m\n\u001b[1;32m     23\u001b[0m                             \u001b[0;32mbreak\u001b[0m\u001b[0;34m\u001b[0m\u001b[0;34m\u001b[0m\u001b[0m\n",
      "\u001b[0;32m~/Software/Python381/lib/python3.8/site-packages/ipykernel/kernelbase.py\u001b[0m in \u001b[0;36mraw_input\u001b[0;34m(self, prompt)\u001b[0m\n\u001b[1;32m    854\u001b[0m                 \u001b[0;34m\"raw_input was called, but this frontend does not support input requests.\"\u001b[0m\u001b[0;34m\u001b[0m\u001b[0;34m\u001b[0m\u001b[0m\n\u001b[1;32m    855\u001b[0m             )\n\u001b[0;32m--> 856\u001b[0;31m         return self._input_request(str(prompt),\n\u001b[0m\u001b[1;32m    857\u001b[0m             \u001b[0mself\u001b[0m\u001b[0;34m.\u001b[0m\u001b[0m_parent_ident\u001b[0m\u001b[0;34m,\u001b[0m\u001b[0;34m\u001b[0m\u001b[0;34m\u001b[0m\u001b[0m\n\u001b[1;32m    858\u001b[0m             \u001b[0mself\u001b[0m\u001b[0;34m.\u001b[0m\u001b[0m_parent_header\u001b[0m\u001b[0;34m,\u001b[0m\u001b[0;34m\u001b[0m\u001b[0;34m\u001b[0m\u001b[0m\n",
      "\u001b[0;32m~/Software/Python381/lib/python3.8/site-packages/ipykernel/kernelbase.py\u001b[0m in \u001b[0;36m_input_request\u001b[0;34m(self, prompt, ident, parent, password)\u001b[0m\n\u001b[1;32m    887\u001b[0m             \u001b[0;32mexcept\u001b[0m \u001b[0mKeyboardInterrupt\u001b[0m\u001b[0;34m:\u001b[0m\u001b[0;34m\u001b[0m\u001b[0;34m\u001b[0m\u001b[0m\n\u001b[1;32m    888\u001b[0m                 \u001b[0;31m# re-raise KeyboardInterrupt, to truncate traceback\u001b[0m\u001b[0;34m\u001b[0m\u001b[0;34m\u001b[0m\u001b[0;34m\u001b[0m\u001b[0m\n\u001b[0;32m--> 889\u001b[0;31m                 \u001b[0;32mraise\u001b[0m \u001b[0mKeyboardInterrupt\u001b[0m\u001b[0;34m\u001b[0m\u001b[0;34m\u001b[0m\u001b[0m\n\u001b[0m\u001b[1;32m    890\u001b[0m             \u001b[0;32melse\u001b[0m\u001b[0;34m:\u001b[0m\u001b[0;34m\u001b[0m\u001b[0;34m\u001b[0m\u001b[0m\n\u001b[1;32m    891\u001b[0m                 \u001b[0;32mbreak\u001b[0m\u001b[0;34m\u001b[0m\u001b[0;34m\u001b[0m\u001b[0m\n",
      "\u001b[0;31mKeyboardInterrupt\u001b[0m: "
     ]
    }
   ],
   "source": [
    "kniffel=Kniffel()"
   ]
  },
  {
   "cell_type": "code",
   "execution_count": 135,
   "metadata": {},
   "outputs": [],
   "source": [
    "def test_scores():\n",
    "    p1=Player(\"Test\")\n",
    "    p1.new_round()\n",
    "    p1.roll()\n",
    "    p1.print_dice(p1.dice)\n",
    "    values=[x.value() for x in p1.dice]\n",
    "    print(f'Kleine Strasse {score_kleine_strasse(values)}')\n",
    "    print(f'Grosse Strasse {score_grosse_strasse(values)}')\n",
    "    print(f'Full House {score_full_house(values)}')\n",
    "    print(f'Kniffel {score_kniffle(values)}')\n",
    "    for i in range(1,7):\n",
    "        print(f'Nummer {i} {score_number(values,i)}')\n",
    "    print(f'Chance {score_chance(values)}')\n",
    "    print(f'Dreier Pasch {score_dreier_pasch(values)}')\n",
    "    print(f'Vierer Pasch {score_vierer_pasch(values)}')\n",
    "              "
   ]
  },
  {
   "cell_type": "code",
   "execution_count": 171,
   "metadata": {},
   "outputs": [
    {
     "name": "stdout",
     "output_type": "stream",
     "text": [
      "1: 5\n",
      "2: 2\n",
      "3: 2\n",
      "4: 2\n",
      "5: 5\n",
      "Kleine Strasse 0\n",
      "Grosse Strasse 0\n",
      "dict_values([2, 3])\n",
      "Full House 25\n",
      "Kniffel 0\n",
      "Nummer 1 0\n",
      "Nummer 2 6\n",
      "Nummer 3 0\n",
      "Nummer 4 0\n",
      "Nummer 5 10\n",
      "Nummer 6 0\n",
      "Chance 16\n",
      "Dreier Pasch 16\n",
      "Vierer Pasch 0\n"
     ]
    }
   ],
   "source": [
    "test_scores()"
   ]
  },
  {
   "cell_type": "code",
   "execution_count": 174,
   "metadata": {},
   "outputs": [],
   "source": [
    "def test_score_full_house():\n",
    "    case01=[1,2,3,4,5]\n",
    "    case02=[1,2,3,2,1]\n",
    "    case03=[2,2,2,1,1]\n",
    "    case04=[1,3,1,3,1]\n",
    "    assert score_full_house(case01) == 0\n",
    "    assert score_full_house(case02) == 0\n",
    "    assert score_full_house(case03) == 25\n",
    "    assert score_full_house(case04) == 25"
   ]
  },
  {
   "cell_type": "code",
   "execution_count": 175,
   "metadata": {},
   "outputs": [
    {
     "name": "stdout",
     "output_type": "stream",
     "text": [
      "dict_values([1, 1, 1, 1, 1])\n",
      "dict_values([2, 2, 1])\n",
      "dict_values([3, 2])\n",
      "dict_values([3, 2])\n"
     ]
    }
   ],
   "source": [
    "test_score_full_house()"
   ]
  },
  {
   "cell_type": "code",
   "execution_count": null,
   "metadata": {},
   "outputs": [],
   "source": []
  }
 ],
 "metadata": {
  "kernelspec": {
   "display_name": "Python 3",
   "language": "python",
   "name": "python3"
  },
  "language_info": {
   "codemirror_mode": {
    "name": "ipython",
    "version": 3
   },
   "file_extension": ".py",
   "mimetype": "text/x-python",
   "name": "python",
   "nbconvert_exporter": "python",
   "pygments_lexer": "ipython3",
   "version": "3.8.1"
  }
 },
 "nbformat": 4,
 "nbformat_minor": 4
}
